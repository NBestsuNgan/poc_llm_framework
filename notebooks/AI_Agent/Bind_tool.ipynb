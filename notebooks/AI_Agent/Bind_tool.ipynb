{
 "cells": [
  {
   "cell_type": "code",
   "execution_count": 2,
   "id": "07ebbdc4-34cb-4e24-983d-fea7e1c6f161",
   "metadata": {},
   "outputs": [],
   "source": [
    "from typing import List\n",
    "from typing_extensions import TypedDict\n",
    "from langchain_ollama import ChatOllama\n",
    "import smtplib\n",
    "from email.message import EmailMessage\n",
    "\n",
    "# --- TypedDict for input schema ---\n",
    "class EmailInput(TypedDict):\n",
    "    sender_email: str\n",
    "    app_password: str\n",
    "    recipient_email: str\n",
    "    subject: str\n",
    "    body: str\n",
    "\n",
    "\n",
    "# --- Email sending function ---\n",
    "def send_gmail_email_llm(data: dict) -> dict:\n",
    "    \"\"\"\n",
    "    Sends an email using Gmail SMTP. Injects required auth fields if missing.\n",
    "    \"\"\"\n",
    "    # Inject your actual Gmail credentials (ideally pulled from env vars or a secrets manager)\n",
    "    data['sender_email'] = data.get('sender_email', 'your_email@gmail.com')\n",
    "    data['app_password'] = data.get('app_password', 'your_gmail_app_password')\n",
    "    data['recipient_email'] = data.get('recipient_email', data.get('to'))  # fallback\n",
    "\n",
    "    # Build and send email\n",
    "    msg = EmailMessage()\n",
    "    msg['Subject'] = data['subject']\n",
    "    msg['From'] = data['sender_email']\n",
    "    msg['To'] = data['recipient_email']\n",
    "    msg.set_content(data['body'])\n",
    "\n",
    "    smtp_server = 'smtp.gmail.com'\n",
    "    smtp_port = 587\n",
    "\n",
    "    try:\n",
    "        with smtplib.SMTP(smtp_server, smtp_port) as server:\n",
    "            server.starttls()\n",
    "            server.login(data['sender_email'], data['app_password'])\n",
    "            server.send_message(msg)\n",
    "            print(\"Email sent successfully!\")\n",
    "            return {\"status\": \"success\", \"message\": \"Email sent successfully!\"}\n",
    "    except Exception as e:\n",
    "        print(\"Error:\", e)\n",
    "        return {\"status\": \"error\", \"message\": str(e)}\n",
    "\n",
    "\n",
    "# --- User validation function ---\n",
    "def validate_user(user_id: int, addresses: List[str]) -> bool:\n",
    "    \"\"\"\n",
    "    Validate user using historical addresses.\n",
    "\n",
    "    Args:\n",
    "        user_id: The user ID.\n",
    "        addresses: List of previous addresses.\n",
    "    \"\"\"\n",
    "    return True\n",
    "\n",
    "# --- Bind functions to the LLM ---\n",
    "llm = ChatOllama(\n",
    "    model=\"llama3-groq-tool-use:8b\",\n",
    "    temperature=0,\n",
    "    base_url=\"http://host.docker.internal:11434\"\n",
    ").bind_tools([validate_user, send_gmail_email_llm])\n"
   ]
  },
  {
   "cell_type": "code",
   "execution_count": 3,
   "id": "733d3d87-376f-4eef-bb67-27129246799c",
   "metadata": {},
   "outputs": [
    {
     "data": {
      "text/plain": [
       "[{'name': 'validate_user',\n",
       "  'args': {'addresses': ['123 Fake st, Boston MA',\n",
       "    '234 Pretend Boulevard, Houston TX'],\n",
       "   'user_id': 123},\n",
       "  'id': 'f7fc9e3e-8494-4982-b03e-758dee900189',\n",
       "  'type': 'tool_call'}]"
      ]
     },
     "execution_count": 3,
     "metadata": {},
     "output_type": "execute_result"
    }
   ],
   "source": [
    "result_validate = llm.invoke(\n",
    "    \"Could you validate user 123? Thet previously lived at \"\n",
    "    \"123 Fake st in boston MA and 234 Pretend Boulevard in\"\n",
    "    \"Houston TX.\"\n",
    ")\n",
    "\n",
    "result_validate.tool_calls\n"
   ]
  },
  {
   "cell_type": "code",
   "execution_count": 15,
   "id": "2a507768-7af4-4dab-a34c-675a1e67377e",
   "metadata": {},
   "outputs": [
    {
     "name": "stdout",
     "output_type": "stream",
     "text": [
      "[{'name': 'send_gmail_email_llm', 'args': {'data': {'body': \"Hi Best, hope you're doing well. Just checking in!\", 'from': 'nattapat.0645@gmail.com', 'password': 'a0645402317', 'subject': 'Quick Hello', 'to': 'nattapat.7140@gmail.com'}}, 'id': 'c903ae92-5e9f-4e34-8b87-8ee6670174af', 'type': 'tool_call'}]\n",
      "#########################\n",
      "\n"
     ]
    }
   ],
   "source": [
    "result_email = llm.invoke(\n",
    "    \"Send an email to nattapat.7140@gmail.com saying 'Hi Best, hope you're doing well. Just checking in!' with subject 'Quick Hello'. \"\n",
    "    \"Use sender email nattapat.0645@gmail.com and app password a0645402317.\"\n",
    ")\n",
    "\n",
    "\n",
    "print(result_email.tool_calls)\n",
    "print(\"#########################\")\n",
    "print(result_email.content)"
   ]
  },
  {
   "cell_type": "code",
   "execution_count": 14,
   "id": "50a0a28c-eb76-4b01-b0d8-5e55d61a797a",
   "metadata": {},
   "outputs": [
    {
     "name": "stdout",
     "output_type": "stream",
     "text": [
      "[]\n",
      "I was created by a team of developers who designed me to assist with various tasks such as validating user information, sending emails, and more. I'm here to help you with any questions or requests you have!\n"
     ]
    }
   ],
   "source": [
    "result_none_tools = llm.invoke(\n",
    "    \"who make you and give me briefly about you?\"\n",
    ")\n",
    "\n",
    "print(result_none_tools.tool_calls)\n",
    "print(result_none_tools.content)"
   ]
  },
  {
   "cell_type": "code",
   "execution_count": 3,
   "id": "2809739a-400f-4f4d-9c31-3b5f6532f601",
   "metadata": {},
   "outputs": [
    {
     "name": "stdout",
     "output_type": "stream",
     "text": [
      "[{'name': 'validate_user', 'args': {'addresses': ['123 Fake st in boston MA', '234 Pretend Boulevard inHouston TX'], 'user_id': 123}, 'id': 'e1d81b24-a8c5-476a-acd4-f8b52b63053c', 'type': 'tool_call'}]\n",
      "\n"
     ]
    }
   ],
   "source": [
    "result_multi_tools = llm.invoke(\n",
    "    \"Could you validate user 123? Thet previously lived at \"\n",
    "    \"123 Fake st in boston MA and 234 Pretend Boulevard in\"\n",
    "    \"Houston TX.\"\n",
    "    \"Then\"\n",
    "    \"Send an email to nattapat.7140@gmail.com saying 'Hi Best, hope you're doing well. Just checking in!' with subject from user validation result. \"\n",
    "    \"Use sender email nattapat.0645@gmail.com and app password a0645402317.\"\n",
    ")\n",
    "\n",
    "print(result_multi_tools.tool_calls)\n",
    "print(result_multi_tools.content)"
   ]
  }
 ],
 "metadata": {
  "kernelspec": {
   "display_name": "Python 3 (ipykernel)",
   "language": "python",
   "name": "python3"
  },
  "language_info": {
   "codemirror_mode": {
    "name": "ipython",
    "version": 3
   },
   "file_extension": ".py",
   "mimetype": "text/x-python",
   "name": "python",
   "nbconvert_exporter": "python",
   "pygments_lexer": "ipython3",
   "version": "3.11.6"
  }
 },
 "nbformat": 4,
 "nbformat_minor": 5
}
