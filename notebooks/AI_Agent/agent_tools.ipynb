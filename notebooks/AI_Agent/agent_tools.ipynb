{
 "cells": [
  {
   "cell_type": "code",
   "execution_count": 1,
   "id": "25f4e852-e9cf-43d1-b29a-e0a310a6ca9f",
   "metadata": {
    "editable": true,
    "slideshow": {
     "slide_type": "skip"
    },
    "tags": [
     "parameters"
    ]
   },
   "outputs": [],
   "source": [
    "# paramter cell do not remove!!\n",
    "# nb_parm='datalake|raw/pdf|Birddiversityanddistribution|pdf||300|150'\n",
    "# nb_parm='datalake|raw/text-csv|PFW_spp_translation_table_May2024|csv||300|150'\n",
    "nb_parm='llmnok'\n",
    "question = 'how many bird species are in migratory?'\n",
    "embed_model = \"mxbai-embed-large\" \n",
    "gen_model = \"deepseek-r1:7b\"\n",
    "# collection = \"Bridknowledge\""
   ]
  },
  {
   "cell_type": "code",
   "execution_count": 2,
   "id": "b058a7b6-4199-43ba-895d-c9c27fe5ef0b",
   "metadata": {},
   "outputs": [],
   "source": [
    "import sys\n",
    "import os\n",
    "\n",
    "sys.path.append(\"/home/jovyan/notebooks\")\n",
    "from Framework.module import Utility"
   ]
  },
  {
   "cell_type": "markdown",
   "id": "b215064d-3405-4b85-92ce-088f54fd98ae",
   "metadata": {},
   "source": [
    "## Do the task after this"
   ]
  },
  {
   "cell_type": "code",
   "execution_count": 3,
   "id": "052f60e7-d71d-4d8a-baa2-929ee6a80748",
   "metadata": {},
   "outputs": [
    {
     "name": "stderr",
     "output_type": "stream",
     "text": [
      "USER_AGENT environment variable not set, consider setting it to identify your requests.\n"
     ]
    }
   ],
   "source": [
    "from langchain_core.tools import tool\n",
    "from langgraph.prebuilt import create_react_agent\n",
    "import importlib\n",
    "import inspect\n",
    "from importlib import import_module\n",
    "from langchain_core.tools import BaseTool\n",
    "from email.message import EmailMessage\n",
    "from typing import List\n",
    "from typing_extensions import TypedDict\n",
    "from langchain_ollama import ChatOllama\n",
    "import smtplib\n",
    "\n",
    "def load_all_tools(module_path: str):\n",
    "    \"\"\"\n",
    "    Load all @tool-decorated functions from a module.\n",
    "\n",
    "    Args:\n",
    "        module_path (str): Python module path like 'tools'\n",
    "\n",
    "    Returns:\n",
    "        List of tool function objects\n",
    "    \"\"\"\n",
    "    tools = []\n",
    "    module = import_module(module_path)\n",
    "    for name, obj in inspect.getmembers(module):\n",
    "        if isinstance(obj, BaseTool):\n",
    "            tools.append(obj)\n",
    "    return tools\n",
    "    \n",
    "utility_tools = load_all_tools(\"Framework.pool_of_tools\")\n",
    "basetools = load_all_tools(\"Framework.base_tools\")\n",
    "\n",
    "\n",
    "llm = ChatOllama(\n",
    "    model=\"llama3-groq-tool-use:8b\",\n",
    "    temperature=0,\n",
    "    base_url=\"http://host.docker.internal:11434\"\n",
    ")\n",
    "\n",
    "# Augment the LLM with tools\n",
    "tools = utility_tools + basetools\n",
    "tools_by_name = {tool.name: tool for tool in tools}\n",
    "llm_with_tools = llm.bind_tools(tools)"
   ]
  },
  {
   "cell_type": "code",
   "execution_count": 4,
   "id": "7eba3984-ed39-45da-8330-c029108bd734",
   "metadata": {},
   "outputs": [],
   "source": [
    "from langgraph.graph import MessagesState\n",
    "from langchain_core.messages import SystemMessage, HumanMessage, ToolMessage\n",
    "from typing_extensions import Literal\n",
    "from typing_extensions import TypedDict\n",
    "from langgraph.graph import StateGraph, START, END\n",
    "from IPython.display import Image, display\n",
    "\n",
    "\n",
    "# Nodes\n",
    "def llm_call(state: MessagesState):\n",
    "    \"\"\"LLM decides whether to call a tool or not\"\"\"\n",
    "\n",
    "    return {\n",
    "        \"messages\": [\n",
    "            llm_with_tools.invoke(\n",
    "                [\n",
    "                    SystemMessage(\n",
    "                        # content=\"You are a helpful assistant. You can call tools to perform tasks such as: Validating users (user ID and addresses), Sending emails via Gmail (with subject/body/from email/password) and Math operations like add, multiply, divide.\"\n",
    "                        content=\"You are a helpful assistant. You can call tools to perform tasks and success it accroding to user prompt\"\n",
    "\n",
    "                    )\n",
    "                ]\n",
    "                + state[\"messages\"]\n",
    "            )\n",
    "        ]\n",
    "    }\n",
    "\n",
    "\n",
    "def tool_node(state: dict):\n",
    "    \"\"\"Performs the tool call\"\"\"\n",
    "\n",
    "    result = []\n",
    "    for tool_call in state[\"messages\"][-1].tool_calls:\n",
    "        tool = tools_by_name[tool_call[\"name\"]]\n",
    "        observation = tool.invoke(tool_call[\"args\"])\n",
    "        result.append(ToolMessage(content=observation, tool_call_id=tool_call[\"id\"]))\n",
    "        \n",
    "    # print(\"tool_node\", result)\n",
    "    return {\"messages\": result}\n",
    "\n",
    "  \n",
    "\n",
    "# Conditional edge function to route to the tool node or end based upon whether the LLM made a tool call\n",
    "def should_continue(state: MessagesState) -> Literal[\"environment\", END]:\n",
    "    \"\"\"Decide if we should continue the loop or stop based upon whether the LLM made a tool call\"\"\"\n",
    "\n",
    "    messages = state[\"messages\"]\n",
    "    last_message = messages[-1]\n",
    "    # If the LLM makes a tool call, then perform an action\n",
    "    if last_message.tool_calls:\n",
    "        return \"Action\"\n",
    "    # Otherwise, we stop (reply to the user)\n",
    "    return END\n",
    "\n",
    "\n",
    "# Build workflow\n",
    "agent_builder = StateGraph(MessagesState)\n",
    "\n",
    "# Add nodes\n",
    "agent_builder.add_node(\"llm_call\", llm_call)\n",
    "agent_builder.add_node(\"environment\", tool_node)\n",
    "\n",
    "# Add edges to connect nodes\n",
    "agent_builder.add_edge(START, \"llm_call\")\n",
    "agent_builder.add_conditional_edges(\n",
    "    \"llm_call\",\n",
    "    should_continue,\n",
    "    {\n",
    "        # Name returned by should_continue : Name of next node to visit\n",
    "        \"Action\": \"environment\",\n",
    "        END: END,\n",
    "    },\n",
    ")\n",
    "agent_builder.add_edge(\"environment\", \"llm_call\")\n",
    "\n",
    "# Compile the agent\n",
    "agent = agent_builder.compile()\n"
   ]
  },
  {
   "cell_type": "code",
   "execution_count": 5,
   "id": "e8cf63ef-c08f-42fa-ae6c-bcf4433c4dae",
   "metadata": {},
   "outputs": [],
   "source": [
    "# # Show the agent\n",
    "# display(Image(agent.get_graph(xray=True).draw_mermaid_png()))\n",
    "\n",
    "# # Invoke\n",
    "# # messages = [HumanMessage(content=\"Could you validate user 123? Thet previously lived at 123 Fake st in boston MA and 234 Pretend Boulevard in Houston TX. Then Send an email to nattapat.7140@gmail.com saying 'Hi Best, hope you're doing well. Just checking in!' with subject from user validation result. Use sender email nattapat.0645@gmail.com and app password a0645402317. \")]\n",
    "# messages = [HumanMessage(content=\n",
    "#                          \"\"\"Validate user 123 with these addresses:\n",
    "#                             - 123 Fake st in Boston, MA\n",
    "#                             - 234 Pretend Boulevard in Houston, TX\n",
    "#                             Then keep result\n",
    "#                             Then send_gmail_email_llm to nattapat.7140@gmail.com with:\n",
    "#                             Subject: User Validation Result\n",
    "#                             Body: Hi Best, here validation result {result}\n",
    "#                             Sender: nattapat.0645@gmail.com\n",
    "#                             Password: a0645402317 \n",
    "#                          \"\"\")]\n",
    "\n",
    "\n",
    "# messages = agent.invoke({\"messages\": messages})\n",
    "# for m in messages[\"messages\"]:\n",
    "#     m.pretty_print()"
   ]
  },
  {
   "cell_type": "markdown",
   "id": "d7e13d4a-6b5b-491d-b67c-06710875eb7a",
   "metadata": {},
   "source": [
    "## Run another agent"
   ]
  },
  {
   "cell_type": "code",
   "execution_count": 6,
   "id": "86eb4bd6-82ba-465e-a9af-b2251004a125",
   "metadata": {},
   "outputs": [
    {
     "data": {
      "image/png": "[encoded data removed]",
      "text/plain": [
       "<IPython.core.display.Image object>"
      ]
     },
     "metadata": {},
     "output_type": "display_data"
    },
    {
     "name": "stderr",
     "output_type": "stream",
     "text": [
      "/opt/conda/lib/python3.11/site-packages/ollama/_types.py:81: PydanticDeprecatedSince211: Accessing the 'model_fields' attribute on the instance is deprecated. Instead, you should access this attribute from the model class. Deprecated in Pydantic V2.11 to be removed in V3.0.\n",
      "  if key in self.model_fields:\n",
      "/opt/conda/lib/python3.11/site-packages/ollama/_types.py:82: PydanticDeprecatedSince211: Accessing the 'model_fields' attribute on the instance is deprecated. Instead, you should access this attribute from the model class. Deprecated in Pydantic V2.11 to be removed in V3.0.\n",
      "  return self.model_fields[key].default is not None\n",
      "/opt/conda/lib/python3.11/site-packages/ollama/_types.py:81: PydanticDeprecatedSince211: Accessing the 'model_fields' attribute on the instance is deprecated. Instead, you should access this attribute from the model class. Deprecated in Pydantic V2.11 to be removed in V3.0.\n",
      "  if key in self.model_fields:\n",
      "/opt/conda/lib/python3.11/site-packages/ollama/_types.py:82: PydanticDeprecatedSince211: Accessing the 'model_fields' attribute on the instance is deprecated. Instead, you should access this attribute from the model class. Deprecated in Pydantic V2.11 to be removed in V3.0.\n",
      "  return self.model_fields[key].default is not None\n"
     ]
    },
    {
     "name": "stdout",
     "output_type": "stream",
     "text": [
      "Error: (535, b'5.7.8 Username and Password not accepted. For more information, go to\\n5.7.8  https://support.google.com/mail/?p=BadCredentials d2e1a72fcca58-73dbfa58376sm6623863b3a.100 - gsmtp')\n",
      "================================\u001b[1m Human Message \u001b[0m=================================\n",
      "\n",
      "\n",
      " generate sql script for select all of data from table EDP.TEST1\n",
      " Then keep a result send_google_email to nattapat.7140@gmail.com with:\n",
      "    Subject: SQL output\n",
      "    Body: Hi Best, here the result from generation {generate_sql.result}\n",
      "    Sender: nattapat.0645@gmail.com\n",
      "    Password: a0645402317 \n",
      " \n",
      "==================================\u001b[1m Ai Message \u001b[0m==================================\n",
      "Tool Calls:\n",
      "  generate_sql (b06476ce-5ef0-4be4-b009-b4f0967d2ae0)\n",
      " Call ID: b06476ce-5ef0-4be4-b009-b4f0967d2ae0\n",
      "  Args:\n",
      "    content: SELECT * FROM EDP.TEST1\n",
      "=================================\u001b[1m Tool Message \u001b[0m=================================\n",
      "\n",
      "{'result': 'SELECT * FROM EDP.TEST1'}\n",
      "==================================\u001b[1m Ai Message \u001b[0m==================================\n",
      "Tool Calls:\n",
      "  send_google_email (b6dc239d-6bcf-4b5d-a568-146210854ea5)\n",
      " Call ID: b6dc239d-6bcf-4b5d-a568-146210854ea5\n",
      "  Args:\n",
      "    data: {'body': 'Hi Best, here the result from generation SELECT * FROM EDP.TEST1', 'password': 'a0645402317', 'sender': 'nattapat.0645@gmail.com', 'subject': 'SQL output'}\n",
      "=================================\u001b[1m Tool Message \u001b[0m=================================\n",
      "\n",
      "(535, b'5.7.8 Username and Password not accepted. For more information, go to\\n5.7.8  https://support.google.com/mail/?p=BadCredentials d2e1a72fcca58-73dbfa58376sm6623863b3a.100 - gsmtp')\n",
      "==================================\u001b[1m Ai Message \u001b[0m==================================\n",
      "\n",
      "It seems like the email could not be sent due to a bad credentials error. Please check your password and try again.\n"
     ]
    },
    {
     "name": "stderr",
     "output_type": "stream",
     "text": [
      "/opt/conda/lib/python3.11/site-packages/ollama/_types.py:81: PydanticDeprecatedSince211: Accessing the 'model_fields' attribute on the instance is deprecated. Instead, you should access this attribute from the model class. Deprecated in Pydantic V2.11 to be removed in V3.0.\n",
      "  if key in self.model_fields:\n",
      "/opt/conda/lib/python3.11/site-packages/ollama/_types.py:82: PydanticDeprecatedSince211: Accessing the 'model_fields' attribute on the instance is deprecated. Instead, you should access this attribute from the model class. Deprecated in Pydantic V2.11 to be removed in V3.0.\n",
      "  return self.model_fields[key].default is not None\n"
     ]
    }
   ],
   "source": [
    "# Show the agent\n",
    "display(Image(agent.get_graph(xray=True).draw_mermaid_png()))\n",
    "\n",
    "# Invoke\n",
    "# messages = [HumanMessage(content=\"Could you validate user 123? Thet previously lived at 123 Fake st in boston MA and 234 Pretend Boulevard in Houston TX. Then Send an email to nattapat.7140@gmail.com saying 'Hi Best, hope you're doing well. Just checking in!' with subject from user validation result. Use sender email nattapat.0645@gmail.com and app password a0645402317. \")]\n",
    "messages = [HumanMessage(content=\n",
    " \"\"\"\n",
    " generate sql script for select all of data from table EDP.TEST1\n",
    " Then keep a result send_google_email to nattapat.7140@gmail.com with:\n",
    "    Subject: SQL output\n",
    "    Body: Hi Best, here the result from generation {generate_sql.result}\n",
    "    Sender: nattapat.0645@gmail.com\n",
    "    Password: a0645402317 \n",
    " \"\"\")]\n",
    "\n",
    "\n",
    "messages = agent.invoke({\"messages\": messages})\n",
    "for m in messages[\"messages\"]:                                                                              \n",
    "    m.pretty_print()"
   ]
  }
 ],
 "metadata": {
  "kernelspec": {
   "display_name": "Python 3 (ipykernel)",
   "language": "python",
   "name": "python3"
  },
  "language_info": {
   "codemirror_mode": {
    "name": "ipython",
    "version": 3
   },
   "file_extension": ".py",
   "mimetype": "text/x-python",
   "name": "python",
   "nbconvert_exporter": "python",
   "pygments_lexer": "ipython3",
   "version": "3.11.6"
  }
 },
 "nbformat": 4,
 "nbformat_minor": 5
}
