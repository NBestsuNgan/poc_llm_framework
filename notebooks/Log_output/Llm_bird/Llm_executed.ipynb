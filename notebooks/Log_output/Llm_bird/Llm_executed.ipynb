{
 "cells": [
  {
   "cell_type": "code",
   "execution_count": 1,
   "id": "ebb9e884-4ae5-4dd4-99c3-5125ffe52628",
   "metadata": {
    "editable": true,
    "execution": {
     "iopub.execute_input": "2025-04-07T15:41:38.805368Z",
     "iopub.status.busy": "2025-04-07T15:41:38.805153Z",
     "iopub.status.idle": "2025-04-07T15:41:38.812929Z",
     "shell.execute_reply": "2025-04-07T15:41:38.811930Z"
    },
    "papermill": {
     "duration": 0.021386,
     "end_time": "2025-04-07T15:41:38.814396",
     "exception": false,
     "start_time": "2025-04-07T15:41:38.793010",
     "status": "completed"
    },
    "slideshow": {
     "slide_type": "skip"
    },
    "tags": [
     "parameters"
    ]
   },
   "outputs": [],
   "source": [
    "# paramter cell do not remove!!\n",
    "nb_parm=''"
   ]
  },
  {
   "cell_type": "code",
   "execution_count": 2,
   "id": "af1435b2",
   "metadata": {
    "execution": {
     "iopub.execute_input": "2025-04-07T15:41:38.870788Z",
     "iopub.status.busy": "2025-04-07T15:41:38.870458Z",
     "iopub.status.idle": "2025-04-07T15:41:38.875521Z",
     "shell.execute_reply": "2025-04-07T15:41:38.874639Z"
    },
    "papermill": {
     "duration": 0.038974,
     "end_time": "2025-04-07T15:41:38.877632",
     "exception": false,
     "start_time": "2025-04-07T15:41:38.838658",
     "status": "completed"
    },
    "tags": [
     "injected-parameters"
    ]
   },
   "outputs": [],
   "source": [
    "# Parameters\n",
    "nb_parm = \"llmnok\"\n"
   ]
  },
  {
   "cell_type": "code",
   "execution_count": 3,
   "id": "3302ad37-1e8a-4280-a593-680668f30553",
   "metadata": {
    "execution": {
     "iopub.execute_input": "2025-04-07T15:41:38.928602Z",
     "iopub.status.busy": "2025-04-07T15:41:38.926713Z",
     "iopub.status.idle": "2025-04-07T15:41:40.127307Z",
     "shell.execute_reply": "2025-04-07T15:41:40.126111Z"
    },
    "papermill": {
     "duration": 1.235222,
     "end_time": "2025-04-07T15:41:40.130341",
     "exception": false,
     "start_time": "2025-04-07T15:41:38.895119",
     "status": "completed"
    },
    "tags": []
   },
   "outputs": [],
   "source": [
    "import sys\n",
    "import os\n",
    "\n",
    "sys.path.append(\"/home/jovyan/notebooks\")\n",
    "from Framework.module import Utility"
   ]
  },
  {
   "cell_type": "code",
   "execution_count": 4,
   "id": "ff73aaad-3eee-4c61-a31e-8ee8c1617e3a",
   "metadata": {
    "execution": {
     "iopub.execute_input": "2025-04-07T15:41:40.179925Z",
     "iopub.status.busy": "2025-04-07T15:41:40.178862Z",
     "iopub.status.idle": "2025-04-07T15:41:40.189082Z",
     "shell.execute_reply": "2025-04-07T15:41:40.186260Z"
    },
    "papermill": {
     "duration": 0.052157,
     "end_time": "2025-04-07T15:41:40.192567",
     "exception": false,
     "start_time": "2025-04-07T15:41:40.140410",
     "status": "completed"
    },
    "tags": []
   },
   "outputs": [],
   "source": [
    "## Do the task After this"
   ]
  },
  {
   "cell_type": "code",
   "execution_count": 5,
   "id": "fddf70a2-66c6-4f2a-b3f4-b65a209596bf",
   "metadata": {
    "execution": {
     "iopub.execute_input": "2025-04-07T15:41:40.240482Z",
     "iopub.status.busy": "2025-04-07T15:41:40.240153Z",
     "iopub.status.idle": "2025-04-07T15:41:40.249775Z",
     "shell.execute_reply": "2025-04-07T15:41:40.246844Z"
    },
    "papermill": {
     "duration": 0.044411,
     "end_time": "2025-04-07T15:41:40.252145",
     "exception": false,
     "start_time": "2025-04-07T15:41:40.207734",
     "status": "completed"
    },
    "tags": []
   },
   "outputs": [
    {
     "name": "stdout",
     "output_type": "stream",
     "text": [
      "llmnok\n"
     ]
    }
   ],
   "source": [
    "print(nb_parm)"
   ]
  },
  {
   "cell_type": "code",
   "execution_count": 6,
   "id": "d8031037-d10c-424c-ab52-8a30190068f3",
   "metadata": {
    "execution": {
     "iopub.execute_input": "2025-04-07T15:41:40.298326Z",
     "iopub.status.busy": "2025-04-07T15:41:40.298109Z",
     "iopub.status.idle": "2025-04-07T15:41:50.305221Z",
     "shell.execute_reply": "2025-04-07T15:41:50.302483Z"
    },
    "papermill": {
     "duration": 10.042041,
     "end_time": "2025-04-07T15:41:50.310061",
     "exception": false,
     "start_time": "2025-04-07T15:41:40.268020",
     "status": "completed"
    },
    "tags": []
   },
   "outputs": [],
   "source": [
    "import time\n",
    "\n",
    "time.sleep(10)"
   ]
  }
 ],
 "metadata": {
  "kernelspec": {
   "display_name": "Python 3 (ipykernel)",
   "language": "python",
   "name": "python3"
  },
  "language_info": {
   "codemirror_mode": {
    "name": "ipython",
    "version": 3
   },
   "file_extension": ".py",
   "mimetype": "text/x-python",
   "name": "python",
   "nbconvert_exporter": "python",
   "pygments_lexer": "ipython3",
   "version": "3.11.6"
  },
  "papermill": {
   "default_parameters": {},
   "duration": 13.200751,
   "end_time": "2025-04-07T15:41:50.648804",
   "environment_variables": {},
   "exception": null,
   "input_path": "/home/jovyan/notebooks/Llm/Llm.ipynb",
   "output_path": "/home/jovyan/notebooks/Log_output/Llm_bird/Llm_executed.ipynb",
   "parameters": {
    "nb_parm": "llmnok"
   },
   "start_time": "2025-04-07T15:41:37.448053",
   "version": "2.6.0"
  }
 },
 "nbformat": 4,
 "nbformat_minor": 5
}