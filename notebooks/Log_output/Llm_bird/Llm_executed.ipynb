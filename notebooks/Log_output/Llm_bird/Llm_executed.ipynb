{
 "cells": [
  {
   "cell_type": "code",
   "execution_count": 1,
   "id": "ebb9e884-4ae5-4dd4-99c3-5125ffe52628",
   "metadata": {
    "editable": true,
    "execution": {
     "iopub.execute_input": "2025-04-07T12:20:16.978105Z",
     "iopub.status.busy": "2025-04-07T12:20:16.977587Z",
     "iopub.status.idle": "2025-04-07T12:20:16.997205Z",
     "shell.execute_reply": "2025-04-07T12:20:16.993398Z"
    },
    "papermill": {
     "duration": 0.057183,
     "end_time": "2025-04-07T12:20:17.002719",
     "exception": false,
     "start_time": "2025-04-07T12:20:16.945536",
     "status": "completed"
    },
    "slideshow": {
     "slide_type": "skip"
    },
    "tags": [
     "parameters"
    ]
   },
   "outputs": [],
   "source": [
    "# paramter cell do not remove!!\n",
    "nb_parm=''"
   ]
  },
  {
   "cell_type": "code",
   "execution_count": 2,
   "id": "2f17f8d5",
   "metadata": {
    "execution": {
     "iopub.execute_input": "2025-04-07T12:20:17.061757Z",
     "iopub.status.busy": "2025-04-07T12:20:17.059207Z",
     "iopub.status.idle": "2025-04-07T12:20:17.073251Z",
     "shell.execute_reply": "2025-04-07T12:20:17.070410Z"
    },
    "papermill": {
     "duration": 0.057426,
     "end_time": "2025-04-07T12:20:17.077120",
     "exception": false,
     "start_time": "2025-04-07T12:20:17.019694",
     "status": "completed"
    },
    "tags": [
     "injected-parameters"
    ]
   },
   "outputs": [],
   "source": [
    "# Parameters\n",
    "nb_parm = \"llmnok\"\n"
   ]
  },
  {
   "cell_type": "code",
   "execution_count": 3,
   "id": "3302ad37-1e8a-4280-a593-680668f30553",
   "metadata": {
    "execution": {
     "iopub.execute_input": "2025-04-07T12:20:17.138635Z",
     "iopub.status.busy": "2025-04-07T12:20:17.137721Z",
     "iopub.status.idle": "2025-04-07T12:20:18.455591Z",
     "shell.execute_reply": "2025-04-07T12:20:18.453090Z"
    },
    "papermill": {
     "duration": 1.360393,
     "end_time": "2025-04-07T12:20:18.459530",
     "exception": false,
     "start_time": "2025-04-07T12:20:17.099137",
     "status": "completed"
    },
    "tags": []
   },
   "outputs": [],
   "source": [
    "import sys\n",
    "import os\n",
    "\n",
    "sys.path.append(\"/home/jovyan/notebooks\")\n",
    "from Framework.module import Utility"
   ]
  },
  {
   "cell_type": "code",
   "execution_count": 4,
   "id": "ff73aaad-3eee-4c61-a31e-8ee8c1617e3a",
   "metadata": {
    "execution": {
     "iopub.execute_input": "2025-04-07T12:20:18.515441Z",
     "iopub.status.busy": "2025-04-07T12:20:18.513218Z",
     "iopub.status.idle": "2025-04-07T12:20:18.524933Z",
     "shell.execute_reply": "2025-04-07T12:20:18.522068Z"
    },
    "papermill": {
     "duration": 0.05398,
     "end_time": "2025-04-07T12:20:18.529247",
     "exception": false,
     "start_time": "2025-04-07T12:20:18.475267",
     "status": "completed"
    },
    "tags": []
   },
   "outputs": [],
   "source": [
    "## Do the task After this"
   ]
  },
  {
   "cell_type": "code",
   "execution_count": 5,
   "id": "fddf70a2-66c6-4f2a-b3f4-b65a209596bf",
   "metadata": {
    "execution": {
     "iopub.execute_input": "2025-04-07T12:20:18.577634Z",
     "iopub.status.busy": "2025-04-07T12:20:18.576178Z",
     "iopub.status.idle": "2025-04-07T12:20:18.586569Z",
     "shell.execute_reply": "2025-04-07T12:20:18.584434Z"
    },
    "papermill": {
     "duration": 0.04358,
     "end_time": "2025-04-07T12:20:18.589547",
     "exception": false,
     "start_time": "2025-04-07T12:20:18.545967",
     "status": "completed"
    },
    "tags": []
   },
   "outputs": [
    {
     "name": "stdout",
     "output_type": "stream",
     "text": [
      "llmnok\n"
     ]
    }
   ],
   "source": [
    "print(nb_parm)"
   ]
  },
  {
   "cell_type": "code",
   "execution_count": 6,
   "id": "d8031037-d10c-424c-ab52-8a30190068f3",
   "metadata": {
    "execution": {
     "iopub.execute_input": "2025-04-07T12:20:18.637815Z",
     "iopub.status.busy": "2025-04-07T12:20:18.637412Z",
     "iopub.status.idle": "2025-04-07T12:20:28.644760Z",
     "shell.execute_reply": "2025-04-07T12:20:28.642631Z"
    },
    "papermill": {
     "duration": 10.041024,
     "end_time": "2025-04-07T12:20:28.648100",
     "exception": false,
     "start_time": "2025-04-07T12:20:18.607076",
     "status": "completed"
    },
    "tags": []
   },
   "outputs": [],
   "source": [
    "import time\n",
    "\n",
    "time.sleep(10)"
   ]
  }
 ],
 "metadata": {
  "kernelspec": {
   "display_name": "Python 3 (ipykernel)",
   "language": "python",
   "name": "python3"
  },
  "language_info": {
   "codemirror_mode": {
    "name": "ipython",
    "version": 3
   },
   "file_extension": ".py",
   "mimetype": "text/x-python",
   "name": "python",
   "nbconvert_exporter": "python",
   "pygments_lexer": "ipython3",
   "version": "3.11.6"
  },
  "papermill": {
   "default_parameters": {},
   "duration": 13.88113,
   "end_time": "2025-04-07T12:20:29.101272",
   "environment_variables": {},
   "exception": null,
   "input_path": "/home/jovyan/notebooks/Llm/Llm.ipynb",
   "output_path": "/home/jovyan/notebooks/Log_output/Llm_bird/Llm_executed.ipynb",
   "parameters": {
    "nb_parm": "llmnok"
   },
   "start_time": "2025-04-07T12:20:15.220142",
   "version": "2.6.0"
  }
 },
 "nbformat": 4,
 "nbformat_minor": 5
}