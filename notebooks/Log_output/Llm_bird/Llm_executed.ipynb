{
 "cells": [
  {
   "cell_type": "code",
   "execution_count": 1,
   "id": "ebb9e884-4ae5-4dd4-99c3-5125ffe52628",
   "metadata": {
    "editable": true,
    "execution": {
     "iopub.execute_input": "2025-04-09T02:29:19.259850Z",
     "iopub.status.busy": "2025-04-09T02:29:19.258239Z",
     "iopub.status.idle": "2025-04-09T02:29:19.274275Z",
     "shell.execute_reply": "2025-04-09T02:29:19.272313Z"
    },
    "papermill": {
     "duration": 0.044614,
     "end_time": "2025-04-09T02:29:19.277128",
     "exception": false,
     "start_time": "2025-04-09T02:29:19.232514",
     "status": "completed"
    },
    "slideshow": {
     "slide_type": "skip"
    },
    "tags": [
     "parameters"
    ]
   },
   "outputs": [],
   "source": [
    "# paramter cell do not remove!!\n",
    "nb_parm=''\n",
    "question = ''"
   ]
  },
  {
   "cell_type": "code",
   "execution_count": 2,
   "id": "9245440e",
   "metadata": {
    "execution": {
     "iopub.execute_input": "2025-04-09T02:29:19.325137Z",
     "iopub.status.busy": "2025-04-09T02:29:19.324924Z",
     "iopub.status.idle": "2025-04-09T02:29:19.332925Z",
     "shell.execute_reply": "2025-04-09T02:29:19.330380Z"
    },
    "papermill": {
     "duration": 0.042994,
     "end_time": "2025-04-09T02:29:19.336580",
     "exception": false,
     "start_time": "2025-04-09T02:29:19.293586",
     "status": "completed"
    },
    "tags": [
     "injected-parameters"
    ]
   },
   "outputs": [],
   "source": [
    "# Parameters\n",
    "nb_parm = \"llmnok\"\n",
    "question = \"describe the characteristic of the brid from the follow context\"\n"
   ]
  },
  {
   "cell_type": "code",
   "execution_count": 3,
   "id": "3302ad37-1e8a-4280-a593-680668f30553",
   "metadata": {
    "execution": {
     "iopub.execute_input": "2025-04-09T02:29:19.385866Z",
     "iopub.status.busy": "2025-04-09T02:29:19.385126Z",
     "iopub.status.idle": "2025-04-09T02:29:20.427141Z",
     "shell.execute_reply": "2025-04-09T02:29:20.426291Z"
    },
    "papermill": {
     "duration": 1.076389,
     "end_time": "2025-04-09T02:29:20.429753",
     "exception": false,
     "start_time": "2025-04-09T02:29:19.353364",
     "status": "completed"
    },
    "tags": []
   },
   "outputs": [],
   "source": [
    "import sys\n",
    "import os\n",
    "\n",
    "sys.path.append(\"/home/jovyan/notebooks\")\n",
    "from Framework.module import Utility"
   ]
  },
  {
   "cell_type": "code",
   "execution_count": 4,
   "id": "ff73aaad-3eee-4c61-a31e-8ee8c1617e3a",
   "metadata": {
    "execution": {
     "iopub.execute_input": "2025-04-09T02:29:20.472442Z",
     "iopub.status.busy": "2025-04-09T02:29:20.471925Z",
     "iopub.status.idle": "2025-04-09T02:29:20.476280Z",
     "shell.execute_reply": "2025-04-09T02:29:20.475449Z"
    },
    "papermill": {
     "duration": 0.037616,
     "end_time": "2025-04-09T02:29:20.477908",
     "exception": false,
     "start_time": "2025-04-09T02:29:20.440292",
     "status": "completed"
    },
    "tags": []
   },
   "outputs": [],
   "source": [
    "## Do the task After this"
   ]
  },
  {
   "cell_type": "code",
   "execution_count": 5,
   "id": "fddf70a2-66c6-4f2a-b3f4-b65a209596bf",
   "metadata": {
    "execution": {
     "iopub.execute_input": "2025-04-09T02:29:20.516040Z",
     "iopub.status.busy": "2025-04-09T02:29:20.515768Z",
     "iopub.status.idle": "2025-04-09T02:29:20.521139Z",
     "shell.execute_reply": "2025-04-09T02:29:20.519775Z"
    },
    "papermill": {
     "duration": 0.029637,
     "end_time": "2025-04-09T02:29:20.522788",
     "exception": false,
     "start_time": "2025-04-09T02:29:20.493151",
     "status": "completed"
    },
    "tags": []
   },
   "outputs": [
    {
     "name": "stdout",
     "output_type": "stream",
     "text": [
      "llmnok\n"
     ]
    }
   ],
   "source": [
    "print(nb_parm)"
   ]
  },
  {
   "cell_type": "code",
   "execution_count": 6,
   "id": "d8031037-d10c-424c-ab52-8a30190068f3",
   "metadata": {
    "execution": {
     "iopub.execute_input": "2025-04-09T02:29:20.574890Z",
     "iopub.status.busy": "2025-04-09T02:29:20.574592Z",
     "iopub.status.idle": "2025-04-09T02:29:30.578112Z",
     "shell.execute_reply": "2025-04-09T02:29:30.576130Z"
    },
    "papermill": {
     "duration": 10.041668,
     "end_time": "2025-04-09T02:29:30.582924",
     "exception": false,
     "start_time": "2025-04-09T02:29:20.541256",
     "status": "completed"
    },
    "tags": []
   },
   "outputs": [],
   "source": [
    "import time\n",
    "\n",
    "time.sleep(10)"
   ]
  }
 ],
 "metadata": {
  "kernelspec": {
   "display_name": "Python 3 (ipykernel)",
   "language": "python",
   "name": "python3"
  },
  "language_info": {
   "codemirror_mode": {
    "name": "ipython",
    "version": 3
   },
   "file_extension": ".py",
   "mimetype": "text/x-python",
   "name": "python",
   "nbconvert_exporter": "python",
   "pygments_lexer": "ipython3",
   "version": "3.11.6"
  },
  "papermill": {
   "default_parameters": {},
   "duration": 13.187293,
   "end_time": "2025-04-09T02:29:30.945241",
   "environment_variables": {},
   "exception": null,
   "input_path": "/home/jovyan/notebooks/Llm/Llm.ipynb",
   "output_path": "/home/jovyan/notebooks/Log_output/Llm_bird/Llm_executed.ipynb",
   "parameters": {
    "nb_parm": "llmnok",
    "question": "describe the characteristic of the brid from the follow context"
   },
   "start_time": "2025-04-09T02:29:17.757948",
   "version": "2.6.0"
  }
 },
 "nbformat": 4,
 "nbformat_minor": 5
}