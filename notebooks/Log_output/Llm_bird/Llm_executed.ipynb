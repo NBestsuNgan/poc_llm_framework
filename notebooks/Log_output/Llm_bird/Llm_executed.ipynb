{
 "cells": [
  {
   "cell_type": "code",
   "execution_count": 1,
   "id": "ebb9e884-4ae5-4dd4-99c3-5125ffe52628",
   "metadata": {
    "editable": true,
    "execution": {
     "iopub.execute_input": "2025-04-05T15:34:18.450620Z",
     "iopub.status.busy": "2025-04-05T15:34:18.450308Z",
     "iopub.status.idle": "2025-04-05T15:34:18.458022Z",
     "shell.execute_reply": "2025-04-05T15:34:18.457390Z"
    },
    "papermill": {
     "duration": 0.015259,
     "end_time": "2025-04-05T15:34:18.459632",
     "exception": false,
     "start_time": "2025-04-05T15:34:18.444373",
     "status": "completed"
    },
    "slideshow": {
     "slide_type": "skip"
    },
    "tags": [
     "parameters"
    ]
   },
   "outputs": [],
   "source": [
    "# paramter cell do not remove!!\n",
    "nb_parm=''"
   ]
  },
  {
   "cell_type": "code",
   "execution_count": 2,
   "id": "ee3a8fe9",
   "metadata": {
    "execution": {
     "iopub.execute_input": "2025-04-05T15:34:18.464657Z",
     "iopub.status.busy": "2025-04-05T15:34:18.464537Z",
     "iopub.status.idle": "2025-04-05T15:34:18.466435Z",
     "shell.execute_reply": "2025-04-05T15:34:18.466181Z"
    },
    "papermill": {
     "duration": 0.004781,
     "end_time": "2025-04-05T15:34:18.466984",
     "exception": false,
     "start_time": "2025-04-05T15:34:18.462203",
     "status": "completed"
    },
    "tags": [
     "injected-parameters"
    ]
   },
   "outputs": [],
   "source": [
    "# Parameters\n",
    "nb_parm = \"llmnok\"\n"
   ]
  },
  {
   "cell_type": "code",
   "execution_count": 3,
   "id": "3302ad37-1e8a-4280-a593-680668f30553",
   "metadata": {
    "execution": {
     "iopub.execute_input": "2025-04-05T15:34:18.469122Z",
     "iopub.status.busy": "2025-04-05T15:34:18.469037Z",
     "iopub.status.idle": "2025-04-05T15:34:18.780595Z",
     "shell.execute_reply": "2025-04-05T15:34:18.780262Z"
    },
    "papermill": {
     "duration": 0.313499,
     "end_time": "2025-04-05T15:34:18.781457",
     "exception": false,
     "start_time": "2025-04-05T15:34:18.467958",
     "status": "completed"
    },
    "tags": []
   },
   "outputs": [],
   "source": [
    "import sys\n",
    "import os\n",
    "\n",
    "sys.path.append(\"/home/jovyan/notebooks\")\n",
    "from Framework.module import Utility"
   ]
  },
  {
   "cell_type": "code",
   "execution_count": 4,
   "id": "ff73aaad-3eee-4c61-a31e-8ee8c1617e3a",
   "metadata": {
    "execution": {
     "iopub.execute_input": "2025-04-05T15:34:18.785094Z",
     "iopub.status.busy": "2025-04-05T15:34:18.784938Z",
     "iopub.status.idle": "2025-04-05T15:34:18.787678Z",
     "shell.execute_reply": "2025-04-05T15:34:18.787472Z"
    },
    "papermill": {
     "duration": 0.005258,
     "end_time": "2025-04-05T15:34:18.788212",
     "exception": false,
     "start_time": "2025-04-05T15:34:18.782954",
     "status": "completed"
    },
    "tags": []
   },
   "outputs": [],
   "source": [
    "## Do the task After this"
   ]
  },
  {
   "cell_type": "code",
   "execution_count": 5,
   "id": "fddf70a2-66c6-4f2a-b3f4-b65a209596bf",
   "metadata": {
    "execution": {
     "iopub.execute_input": "2025-04-05T15:34:18.790592Z",
     "iopub.status.busy": "2025-04-05T15:34:18.790507Z",
     "iopub.status.idle": "2025-04-05T15:34:18.792536Z",
     "shell.execute_reply": "2025-04-05T15:34:18.792292Z"
    },
    "papermill": {
     "duration": 0.00395,
     "end_time": "2025-04-05T15:34:18.793157",
     "exception": false,
     "start_time": "2025-04-05T15:34:18.789207",
     "status": "completed"
    },
    "tags": []
   },
   "outputs": [
    {
     "name": "stdout",
     "output_type": "stream",
     "text": [
      "llmnok\n"
     ]
    }
   ],
   "source": [
    "print(nb_parm)"
   ]
  },
  {
   "cell_type": "code",
   "execution_count": 6,
   "id": "d8031037-d10c-424c-ab52-8a30190068f3",
   "metadata": {
    "execution": {
     "iopub.execute_input": "2025-04-05T15:34:18.795838Z",
     "iopub.status.busy": "2025-04-05T15:34:18.795752Z",
     "iopub.status.idle": "2025-04-05T15:34:21.299901Z",
     "shell.execute_reply": "2025-04-05T15:34:21.299269Z"
    },
    "papermill": {
     "duration": 2.506363,
     "end_time": "2025-04-05T15:34:21.300824",
     "exception": false,
     "start_time": "2025-04-05T15:34:18.794461",
     "status": "completed"
    },
    "tags": []
   },
   "outputs": [],
   "source": [
    "import time\n",
    "\n",
    "time.sleep(2.5)"
   ]
  }
 ],
 "metadata": {
  "kernelspec": {
   "display_name": "Python 3 (ipykernel)",
   "language": "python",
   "name": "python3"
  },
  "language_info": {
   "codemirror_mode": {
    "name": "ipython",
    "version": 3
   },
   "file_extension": ".py",
   "mimetype": "text/x-python",
   "name": "python",
   "nbconvert_exporter": "python",
   "pygments_lexer": "ipython3",
   "version": "3.11.6"
  },
  "papermill": {
   "default_parameters": {},
   "duration": 3.905529,
   "end_time": "2025-04-05T15:34:21.522903",
   "environment_variables": {},
   "exception": null,
   "input_path": "/home/jovyan/notebooks/Llm/Llm.ipynb",
   "output_path": "/home/jovyan/notebooks/Log_output/Llm_bird/Llm_executed.ipynb",
   "parameters": {
    "nb_parm": "llmnok"
   },
   "start_time": "2025-04-05T15:34:17.617374",
   "version": "2.6.0"
  }
 },
 "nbformat": 4,
 "nbformat_minor": 5
}