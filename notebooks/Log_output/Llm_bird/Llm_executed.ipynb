{
 "cells": [
  {
   "cell_type": "code",
   "execution_count": 1,
   "id": "ebb9e884-4ae5-4dd4-99c3-5125ffe52628",
   "metadata": {
    "editable": true,
    "execution": {
     "iopub.execute_input": "2025-04-08T05:47:23.128152Z",
     "iopub.status.busy": "2025-04-08T05:47:23.125686Z",
     "iopub.status.idle": "2025-04-08T05:47:23.147705Z",
     "shell.execute_reply": "2025-04-08T05:47:23.144732Z"
    },
    "papermill": {
     "duration": 0.044422,
     "end_time": "2025-04-08T05:47:23.151593",
     "exception": false,
     "start_time": "2025-04-08T05:47:23.107171",
     "status": "completed"
    },
    "slideshow": {
     "slide_type": "skip"
    },
    "tags": [
     "parameters"
    ]
   },
   "outputs": [],
   "source": [
    "# paramter cell do not remove!!\n",
    "nb_parm=''"
   ]
  },
  {
   "cell_type": "code",
   "execution_count": 2,
   "id": "68dc6806",
   "metadata": {
    "execution": {
     "iopub.execute_input": "2025-04-08T05:47:23.204352Z",
     "iopub.status.busy": "2025-04-08T05:47:23.203757Z",
     "iopub.status.idle": "2025-04-08T05:47:23.215288Z",
     "shell.execute_reply": "2025-04-08T05:47:23.212986Z"
    },
    "papermill": {
     "duration": 0.052844,
     "end_time": "2025-04-08T05:47:23.219242",
     "exception": false,
     "start_time": "2025-04-08T05:47:23.166398",
     "status": "completed"
    },
    "tags": [
     "injected-parameters"
    ]
   },
   "outputs": [],
   "source": [
    "# Parameters\n",
    "nb_parm = \"llmnok\"\n",
    "question = \"describe the characteristic of the brid from the follow context\"\n"
   ]
  },
  {
   "cell_type": "code",
   "execution_count": 3,
   "id": "3302ad37-1e8a-4280-a593-680668f30553",
   "metadata": {
    "execution": {
     "iopub.execute_input": "2025-04-08T05:47:23.282560Z",
     "iopub.status.busy": "2025-04-08T05:47:23.281758Z",
     "iopub.status.idle": "2025-04-08T05:47:24.635525Z",
     "shell.execute_reply": "2025-04-08T05:47:24.632875Z"
    },
    "papermill": {
     "duration": 1.399778,
     "end_time": "2025-04-08T05:47:24.640143",
     "exception": false,
     "start_time": "2025-04-08T05:47:23.240365",
     "status": "completed"
    },
    "tags": []
   },
   "outputs": [],
   "source": [
    "import sys\n",
    "import os\n",
    "\n",
    "sys.path.append(\"/home/jovyan/notebooks\")\n",
    "from Framework.module import Utility"
   ]
  },
  {
   "cell_type": "code",
   "execution_count": 4,
   "id": "ff73aaad-3eee-4c61-a31e-8ee8c1617e3a",
   "metadata": {
    "execution": {
     "iopub.execute_input": "2025-04-08T05:47:24.693330Z",
     "iopub.status.busy": "2025-04-08T05:47:24.692690Z",
     "iopub.status.idle": "2025-04-08T05:47:24.702212Z",
     "shell.execute_reply": "2025-04-08T05:47:24.699822Z"
    },
    "papermill": {
     "duration": 0.052747,
     "end_time": "2025-04-08T05:47:24.706403",
     "exception": false,
     "start_time": "2025-04-08T05:47:24.653656",
     "status": "completed"
    },
    "tags": []
   },
   "outputs": [],
   "source": [
    "## Do the task After this"
   ]
  },
  {
   "cell_type": "code",
   "execution_count": 5,
   "id": "fddf70a2-66c6-4f2a-b3f4-b65a209596bf",
   "metadata": {
    "execution": {
     "iopub.execute_input": "2025-04-08T05:47:24.755449Z",
     "iopub.status.busy": "2025-04-08T05:47:24.754348Z",
     "iopub.status.idle": "2025-04-08T05:47:24.764862Z",
     "shell.execute_reply": "2025-04-08T05:47:24.762518Z"
    },
    "papermill": {
     "duration": 0.04507,
     "end_time": "2025-04-08T05:47:24.767805",
     "exception": false,
     "start_time": "2025-04-08T05:47:24.722735",
     "status": "completed"
    },
    "tags": []
   },
   "outputs": [
    {
     "name": "stdout",
     "output_type": "stream",
     "text": [
      "llmnok\n"
     ]
    }
   ],
   "source": [
    "print(nb_parm)"
   ]
  },
  {
   "cell_type": "code",
   "execution_count": 6,
   "id": "d8031037-d10c-424c-ab52-8a30190068f3",
   "metadata": {
    "execution": {
     "iopub.execute_input": "2025-04-08T05:47:24.823119Z",
     "iopub.status.busy": "2025-04-08T05:47:24.822628Z",
     "iopub.status.idle": "2025-04-08T05:47:34.827338Z",
     "shell.execute_reply": "2025-04-08T05:47:34.824672Z"
    },
    "papermill": {
     "duration": 10.044836,
     "end_time": "2025-04-08T05:47:34.832660",
     "exception": false,
     "start_time": "2025-04-08T05:47:24.787824",
     "status": "completed"
    },
    "tags": []
   },
   "outputs": [],
   "source": [
    "import time\n",
    "\n",
    "time.sleep(10)"
   ]
  }
 ],
 "metadata": {
  "kernelspec": {
   "display_name": "Python 3 (ipykernel)",
   "language": "python",
   "name": "python3"
  },
  "language_info": {
   "codemirror_mode": {
    "name": "ipython",
    "version": 3
   },
   "file_extension": ".py",
   "mimetype": "text/x-python",
   "name": "python",
   "nbconvert_exporter": "python",
   "pygments_lexer": "ipython3",
   "version": "3.11.6"
  },
  "papermill": {
   "default_parameters": {},
   "duration": 14.573458,
   "end_time": "2025-04-08T05:47:35.280349",
   "environment_variables": {},
   "exception": null,
   "input_path": "/home/jovyan/notebooks/Llm/Llm.ipynb",
   "output_path": "/home/jovyan/notebooks/Log_output/Llm_bird/Llm_executed.ipynb",
   "parameters": {
    "nb_parm": "llmnok",
    "question": "describe the characteristic of the brid from the follow context"
   },
   "start_time": "2025-04-08T05:47:20.706891",
   "version": "2.6.0"
  }
 },
 "nbformat": 4,
 "nbformat_minor": 5
}