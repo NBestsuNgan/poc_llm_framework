{
 "cells": [
  {
   "cell_type": "code",
   "execution_count": 1,
   "id": "9d827a92-d03c-4e5e-8dbd-92bd9f7f5129",
   "metadata": {
    "editable": true,
    "execution": {
     "iopub.execute_input": "2025-04-07T12:20:19.311082Z",
     "iopub.status.busy": "2025-04-07T12:20:19.309615Z",
     "iopub.status.idle": "2025-04-07T12:20:19.327140Z",
     "shell.execute_reply": "2025-04-07T12:20:19.325111Z"
    },
    "papermill": {
     "duration": 0.044361,
     "end_time": "2025-04-07T12:20:19.330306",
     "exception": false,
     "start_time": "2025-04-07T12:20:19.285945",
     "status": "completed"
    },
    "slideshow": {
     "slide_type": "skip"
    },
    "tags": [
     "parameters"
    ]
   },
   "outputs": [],
   "source": [
    "# paramter cell do not remove!!\n",
    "nb_parm=''"
   ]
  },
  {
   "cell_type": "code",
   "execution_count": 2,
   "id": "e5772fbf",
   "metadata": {
    "execution": {
     "iopub.execute_input": "2025-04-07T12:20:19.389442Z",
     "iopub.status.busy": "2025-04-07T12:20:19.388941Z",
     "iopub.status.idle": "2025-04-07T12:20:19.395447Z",
     "shell.execute_reply": "2025-04-07T12:20:19.393322Z"
    },
    "papermill": {
     "duration": 0.041472,
     "end_time": "2025-04-07T12:20:19.398369",
     "exception": false,
     "start_time": "2025-04-07T12:20:19.356897",
     "status": "completed"
    },
    "tags": [
     "injected-parameters"
    ]
   },
   "outputs": [],
   "source": [
    "# Parameters\n",
    "nb_parm = \"bridnok\"\n"
   ]
  },
  {
   "cell_type": "code",
   "execution_count": 3,
   "id": "575c082c-c36d-49c2-a58f-f477e2635af3",
   "metadata": {
    "execution": {
     "iopub.execute_input": "2025-04-07T12:20:19.464699Z",
     "iopub.status.busy": "2025-04-07T12:20:19.463952Z",
     "iopub.status.idle": "2025-04-07T12:20:20.610522Z",
     "shell.execute_reply": "2025-04-07T12:20:20.608869Z"
    },
    "papermill": {
     "duration": 1.190537,
     "end_time": "2025-04-07T12:20:20.613814",
     "exception": false,
     "start_time": "2025-04-07T12:20:19.423277",
     "status": "completed"
    },
    "tags": []
   },
   "outputs": [],
   "source": [
    "import sys\n",
    "import os\n",
    "\n",
    "sys.path.append(\"/home/jovyan/notebooks\")\n",
    "from Framework.module import Utility"
   ]
  },
  {
   "cell_type": "markdown",
   "id": "ce3948dd-3761-4bdd-b62c-e8eb094ea50b",
   "metadata": {
    "papermill": {
     "duration": 0.036998,
     "end_time": "2025-04-07T12:20:20.674208",
     "exception": false,
     "start_time": "2025-04-07T12:20:20.637210",
     "status": "completed"
    },
    "tags": []
   },
   "source": [
    "## Do the task After this"
   ]
  },
  {
   "cell_type": "code",
   "execution_count": 4,
   "id": "8c6d7aea-d442-400e-9dd3-104a3c7597f1",
   "metadata": {
    "execution": {
     "iopub.execute_input": "2025-04-07T12:20:20.744485Z",
     "iopub.status.busy": "2025-04-07T12:20:20.743856Z",
     "iopub.status.idle": "2025-04-07T12:20:30.748973Z",
     "shell.execute_reply": "2025-04-07T12:20:30.746719Z"
    },
    "papermill": {
     "duration": 10.045142,
     "end_time": "2025-04-07T12:20:30.753179",
     "exception": false,
     "start_time": "2025-04-07T12:20:20.708037",
     "status": "completed"
    },
    "tags": []
   },
   "outputs": [],
   "source": [
    "import time\n",
    "\n",
    "time.sleep(10)"
   ]
  },
  {
   "cell_type": "code",
   "execution_count": 5,
   "id": "019d45a1-09e3-4095-bcb2-dc0b3fce5c39",
   "metadata": {
    "execution": {
     "iopub.execute_input": "2025-04-07T12:20:30.817392Z",
     "iopub.status.busy": "2025-04-07T12:20:30.816828Z",
     "iopub.status.idle": "2025-04-07T12:20:33.468544Z",
     "shell.execute_reply": "2025-04-07T12:20:33.467206Z"
    },
    "papermill": {
     "duration": 2.695157,
     "end_time": "2025-04-07T12:20:33.471123",
     "exception": false,
     "start_time": "2025-04-07T12:20:30.775966",
     "status": "completed"
    },
    "tags": []
   },
   "outputs": [
    {
     "name": "stdout",
     "output_type": "stream",
     "text": [
      "pyspark is installed.\n",
      "findspark is installed.\n",
      "boto3 is installed.\n"
     ]
    },
    {
     "name": "stdout",
     "output_type": "stream",
     "text": [
      "papermill is installed.\n",
      "pyarrow is installed.\n",
      "pandas is installed.\n",
      "langchain is installed.\n"
     ]
    },
    {
     "name": "stdout",
     "output_type": "stream",
     "text": [
      "ollama is installed.\n"
     ]
    },
    {
     "name": "stdout",
     "output_type": "stream",
     "text": [
      "langchain_ollama is installed.\n"
     ]
    },
    {
     "name": "stdout",
     "output_type": "stream",
     "text": [
      "langchain_chroma is installed.\n"
     ]
    }
   ],
   "source": [
    "libraries = [\n",
    "    'pyspark', 'findspark', 'boto3', 'papermill', 'pyarrow', 'pandas', \n",
    "    'langchain', 'ollama', 'langchain_ollama', 'langchain_chroma'\n",
    "]\n",
    "\n",
    "for library in libraries:\n",
    "    try:\n",
    "        exec(f\"import {library}\")\n",
    "        print(f\"{library} is installed.\")\n",
    "    except ImportError:\n",
    "        print(f\"{library} is NOT installed.\")\n"
   ]
  },
  {
   "cell_type": "code",
   "execution_count": 6,
   "id": "bb50f66b-425e-4436-a0e1-622dd2a1a8e9",
   "metadata": {
    "execution": {
     "iopub.execute_input": "2025-04-07T12:20:33.522949Z",
     "iopub.status.busy": "2025-04-07T12:20:33.522309Z",
     "iopub.status.idle": "2025-04-07T12:20:33.538477Z",
     "shell.execute_reply": "2025-04-07T12:20:33.536615Z"
    },
    "papermill": {
     "duration": 0.055335,
     "end_time": "2025-04-07T12:20:33.540942",
     "exception": false,
     "start_time": "2025-04-07T12:20:33.485607",
     "status": "completed"
    },
    "tags": []
   },
   "outputs": [
    {
     "data": {
      "text/plain": [
       "'\\nSince Ollama and Jupyter Notebook run in separate containers, \\nJupyter needs to communicate with Ollama via HTTP requests, \\nbecause they are not in the same process or environment.\\n'"
      ]
     },
     "execution_count": 6,
     "metadata": {},
     "output_type": "execute_result"
    }
   ],
   "source": [
    "\"\"\"\n",
    "Since Ollama and Jupyter Notebook run in separate containers, \n",
    "Jupyter needs to communicate with Ollama via HTTP requests, \n",
    "because they are not in the same process or environment.\n",
    "\"\"\""
   ]
  },
  {
   "cell_type": "code",
   "execution_count": 7,
   "id": "b1910727-4204-4506-b629-83412dbf89ff",
   "metadata": {
    "execution": {
     "iopub.execute_input": "2025-04-07T12:20:33.586036Z",
     "iopub.status.busy": "2025-04-07T12:20:33.585575Z",
     "iopub.status.idle": "2025-04-07T12:20:59.504478Z",
     "shell.execute_reply": "2025-04-07T12:20:59.502229Z"
    },
    "papermill": {
     "duration": 25.950565,
     "end_time": "2025-04-07T12:20:59.507538",
     "exception": false,
     "start_time": "2025-04-07T12:20:33.556973",
     "status": "completed"
    },
    "tags": []
   },
   "outputs": [
    {
     "name": "stdout",
     "output_type": "stream",
     "text": [
      "<think>\n",
      "\n",
      "</think>\n",
      "\n",
      "The capital of Thailand is Bangkok.\n"
     ]
    }
   ],
   "source": [
    "from langchain_ollama.llms import OllamaLLM\n",
    "\n",
    "# Explicitly define Ollama's API base URL\n",
    "llm = OllamaLLM(\n",
    "    model=\"deepseek-r1:7b\",\n",
    "    temperature=0,\n",
    "    # base_url=\"http://ollama:11434\"\n",
    "    base_url=\"http://host.docker.internal:11434\" # need to refer because it run as separate container the langchain not know what the end point of model are so this is need to be attached\n",
    "\n",
    ")\n",
    "\n",
    "# Define a simple question prompt\n",
    "question = \"What is the capital of thailand?\"\n",
    "response = llm.invoke(question)\n",
    "\n",
    "# Print the response\n",
    "print(response)\n"
   ]
  },
  {
   "cell_type": "code",
   "execution_count": 8,
   "id": "b14a9a86",
   "metadata": {
    "execution": {
     "iopub.execute_input": "2025-04-07T12:20:59.592648Z",
     "iopub.status.busy": "2025-04-07T12:20:59.591939Z",
     "iopub.status.idle": "2025-04-07T12:20:59.607248Z",
     "shell.execute_reply": "2025-04-07T12:20:59.605036Z"
    },
    "papermill": {
     "duration": 0.07912,
     "end_time": "2025-04-07T12:20:59.612321",
     "exception": false,
     "start_time": "2025-04-07T12:20:59.533201",
     "status": "completed"
    },
    "tags": []
   },
   "outputs": [],
   "source": [
    "# import weaviate\n",
    "\n",
    "# # Establish a connection to the Weaviate instance\n",
    "# client = weaviate.connect_to_custom(\n",
    "#     http_host=\"host.docker.internal\",\n",
    "#     http_port=8082,\n",
    "#     http_secure=False,  # Set to True if using HTTPS\n",
    "#     grpc_host=\"host.docker.internal\",\n",
    "#     grpc_port=50051,\n",
    "#     grpc_secure=False,  # Set to True if using a secure gRPC connection\n",
    "# )\n",
    "\n",
    "# # Check if the client is ready\n",
    "# print(client.is_ready())  # Should return True if the connection is successful\n",
    "\n",
    "# # Define the schema for the object (if you haven't already defined it)\n",
    "# # Example: Create a simple schema for 'Person' with 'name' and 'age' properties\n",
    "# schema = {\n",
    "#     \"classes\": [\n",
    "#         {\n",
    "#             \"class\": \"Person\",\n",
    "#             \"description\": \"A class to represent people\",\n",
    "#             \"properties\": [\n",
    "#                 {\n",
    "#                     \"name\": \"name\",\n",
    "#                     \"dataType\": [\"text\"]\n",
    "#                 },\n",
    "#                 {\n",
    "#                     \"name\": \"age\",\n",
    "#                     \"dataType\": [\"int\"]\n",
    "#                 }\n",
    "#             ]\n",
    "#         }\n",
    "#     ]\n",
    "# }\n",
    "\n",
    "# # Check if the schema contains the 'Person' class using the correct method\n",
    "# if \"Person\" not in client.schema.get():\n",
    "#     client.schema.create(schema)\n",
    "\n",
    "# # Now let's add a person object to the database\n",
    "# person_data = {\n",
    "#     \"name\": \"John Doe\",\n",
    "#     \"age\": 30\n",
    "# }\n",
    "\n",
    "# # Write the object to Weaviate\n",
    "# client.data_object.create(\n",
    "#     data_object=person_data,\n",
    "#     class_name=\"Person\"\n",
    "# )\n",
    "\n",
    "# # Now let's list the objects stored in the \"Person\" class\n",
    "# results = client.data_object.get(class_name=\"Person\")\n",
    "\n",
    "# # Print out the stored objects\n",
    "# for obj in results['data']['Get']['Person']:\n",
    "#     print(f\"Name: {obj['name']}, Age: {obj['age']}\")\n",
    "\n",
    "# # Close the connection\n",
    "# client.close()\n"
   ]
  },
  {
   "cell_type": "code",
   "execution_count": 9,
   "id": "4c7c9bea",
   "metadata": {
    "execution": {
     "iopub.execute_input": "2025-04-07T12:20:59.690806Z",
     "iopub.status.busy": "2025-04-07T12:20:59.689997Z",
     "iopub.status.idle": "2025-04-07T12:20:59.703538Z",
     "shell.execute_reply": "2025-04-07T12:20:59.700319Z"
    },
    "papermill": {
     "duration": 0.065057,
     "end_time": "2025-04-07T12:20:59.707423",
     "exception": false,
     "start_time": "2025-04-07T12:20:59.642366",
     "status": "completed"
    },
    "tags": []
   },
   "outputs": [],
   "source": [
    "# import bs4\n",
    "# from langchain import hub\n",
    "# from langchain.text_splitter import RecursiveCharacterTextSplitter\n",
    "# from langchain_community.document_loaders import WebBaseLoader\n",
    "# from langchain_community.vectorstores import Chroma\n",
    "# from langchain_core.output_parsers import StrOutputParser\n",
    "# from langchain_core.runnables import RunnablePassthrough\n",
    "# from langchain_community.embeddings import OllamaEmbeddings\n",
    "\n",
    "# #### INDEXING ####\n",
    "\n",
    "# # Load Documents\n",
    "# loader = WebBaseLoader(\n",
    "#     web_paths=(\"https://lilianweng.github.io/posts/2023-06-23-agent/\",),\n",
    "#     bs_kwargs=dict(\n",
    "#         parse_only=bs4.SoupStrainer(\n",
    "#             class_=(\"post-content\", \"post-title\", \"post-header\")\n",
    "#         )\n",
    "#     ),\n",
    "# )\n",
    "# docs = loader.load()\n",
    "\n",
    "# # Split\n",
    "# text_splitter = RecursiveCharacterTextSplitter(chunk_size=1000, chunk_overlap=200)\n",
    "# splits = text_splitter.split_documents(docs)\n",
    "\n",
    "# # Embed\n",
    "# vectorstore = Chroma.from_documents(documents=splits, \n",
    "#                                     embedding=OllamaEmbeddings(\n",
    "#                                                 model=\"mxbai-embed-large\",  # Or another embedding model, like `nomic-embed-text`\n",
    "#                                                 base_url=\"http://host.docker.internal:11434\"\n",
    "#                                             )\n",
    "#                                    )\n",
    "\n",
    "# retriever = vectorstore.as_retriever()\n",
    "\n",
    "# #### RETRIEVAL and GENERATION ####\n",
    "\n",
    "# # Prompt\n",
    "# prompt = hub.pull(\"rlm/rag-prompt\")\n",
    "\n",
    "# # LLM\n",
    "# llm = llm = OllamaLLM(\n",
    "#     model=\"deepseek-r1:7b\",\n",
    "#     temperature=0,\n",
    "#     base_url=\"http://host.docker.internal:11434\" \n",
    "# )\n",
    "\n",
    "# # Post-processing\n",
    "# def format_docs(docs):\n",
    "#     return \"\\n\\n\".join(doc.page_content for doc in docs)\n",
    "\n",
    "# # Chain\n",
    "# rag_chain = (\n",
    "#     {\"context\": retriever | format_docs, \"question\": RunnablePassthrough()}\n",
    "#     | prompt\n",
    "#     | llm\n",
    "#     | StrOutputParser()\n",
    "# )\n",
    "\n",
    "# # Question\n",
    "# rag_chain.invoke(\"What is Task Decomposition?\")"
   ]
  }
 ],
 "metadata": {
  "kernelspec": {
   "display_name": "Python 3 (ipykernel)",
   "language": "python",
   "name": "python3"
  },
  "language_info": {
   "codemirror_mode": {
    "name": "ipython",
    "version": 3
   },
   "file_extension": ".py",
   "mimetype": "text/x-python",
   "name": "python",
   "nbconvert_exporter": "python",
   "pygments_lexer": "ipython3",
   "version": "3.11.6"
  },
  "papermill": {
   "default_parameters": {},
   "duration": 43.451564,
   "end_time": "2025-04-07T12:21:00.761684",
   "environment_variables": {},
   "exception": null,
   "input_path": "/home/jovyan/notebooks/Doc/testbrid.ipynb",
   "output_path": "/home/jovyan/notebooks/Log_output/Doc_bird/testbrid_executed.ipynb",
   "parameters": {
    "nb_parm": "bridnok"
   },
   "start_time": "2025-04-07T12:20:17.310120",
   "version": "2.6.0"
  },
  "toc": {
   "base_numbering": 0
  }
 },
 "nbformat": 4,
 "nbformat_minor": 5
}