{
 "cells": [
  {
   "cell_type": "code",
   "execution_count": 1,
   "id": "9d827a92-d03c-4e5e-8dbd-92bd9f7f5129",
   "metadata": {
    "editable": true,
    "execution": {
     "iopub.execute_input": "2025-04-05T15:33:54.377735Z",
     "iopub.status.busy": "2025-04-05T15:33:54.377433Z",
     "iopub.status.idle": "2025-04-05T15:33:54.385298Z",
     "shell.execute_reply": "2025-04-05T15:33:54.384522Z"
    },
    "papermill": {
     "duration": 0.016704,
     "end_time": "2025-04-05T15:33:54.387317",
     "exception": false,
     "start_time": "2025-04-05T15:33:54.370613",
     "status": "completed"
    },
    "slideshow": {
     "slide_type": "skip"
    },
    "tags": [
     "parameters"
    ]
   },
   "outputs": [],
   "source": [
    "# paramter cell do not remove!!\n",
    "nb_parm=''"
   ]
  },
  {
   "cell_type": "code",
   "execution_count": 2,
   "id": "43ae66c5",
   "metadata": {
    "execution": {
     "iopub.execute_input": "2025-04-05T15:33:54.392789Z",
     "iopub.status.busy": "2025-04-05T15:33:54.392642Z",
     "iopub.status.idle": "2025-04-05T15:33:54.395784Z",
     "shell.execute_reply": "2025-04-05T15:33:54.395522Z"
    },
    "papermill": {
     "duration": 0.005857,
     "end_time": "2025-04-05T15:33:54.396350",
     "exception": false,
     "start_time": "2025-04-05T15:33:54.390493",
     "status": "completed"
    },
    "tags": [
     "injected-parameters"
    ]
   },
   "outputs": [],
   "source": [
    "# Parameters\n",
    "nb_parm = \"bridnok\"\n"
   ]
  },
  {
   "cell_type": "code",
   "execution_count": 3,
   "id": "575c082c-c36d-49c2-a58f-f477e2635af3",
   "metadata": {
    "execution": {
     "iopub.execute_input": "2025-04-05T15:33:54.399417Z",
     "iopub.status.busy": "2025-04-05T15:33:54.399336Z",
     "iopub.status.idle": "2025-04-05T15:33:54.740569Z",
     "shell.execute_reply": "2025-04-05T15:33:54.740260Z"
    },
    "papermill": {
     "duration": 0.343679,
     "end_time": "2025-04-05T15:33:54.741422",
     "exception": false,
     "start_time": "2025-04-05T15:33:54.397743",
     "status": "completed"
    },
    "tags": []
   },
   "outputs": [],
   "source": [
    "import sys\n",
    "import os\n",
    "\n",
    "sys.path.append(\"/home/jovyan/notebooks\")\n",
    "from Framework.module import Utility"
   ]
  },
  {
   "cell_type": "markdown",
   "id": "ce3948dd-3761-4bdd-b62c-e8eb094ea50b",
   "metadata": {
    "papermill": {
     "duration": 0.00145,
     "end_time": "2025-04-05T15:33:54.744550",
     "exception": false,
     "start_time": "2025-04-05T15:33:54.743100",
     "status": "completed"
    },
    "tags": []
   },
   "source": [
    "## Do the task After this"
   ]
  },
  {
   "cell_type": "code",
   "execution_count": 4,
   "id": "8c6d7aea-d442-400e-9dd3-104a3c7597f1",
   "metadata": {
    "execution": {
     "iopub.execute_input": "2025-04-05T15:33:54.748499Z",
     "iopub.status.busy": "2025-04-05T15:33:54.748083Z",
     "iopub.status.idle": "2025-04-05T15:34:04.755712Z",
     "shell.execute_reply": "2025-04-05T15:34:04.754429Z"
    },
    "papermill": {
     "duration": 10.012474,
     "end_time": "2025-04-05T15:34:04.758502",
     "exception": false,
     "start_time": "2025-04-05T15:33:54.746028",
     "status": "completed"
    },
    "tags": []
   },
   "outputs": [],
   "source": [
    "import time\n",
    "\n",
    "time.sleep(10)"
   ]
  },
  {
   "cell_type": "code",
   "execution_count": 5,
   "id": "019d45a1-09e3-4095-bcb2-dc0b3fce5c39",
   "metadata": {
    "execution": {
     "iopub.execute_input": "2025-04-05T15:34:04.765935Z",
     "iopub.status.busy": "2025-04-05T15:34:04.765520Z",
     "iopub.status.idle": "2025-04-05T15:34:05.396499Z",
     "shell.execute_reply": "2025-04-05T15:34:05.396188Z"
    },
    "papermill": {
     "duration": 0.635372,
     "end_time": "2025-04-05T15:34:05.397282",
     "exception": false,
     "start_time": "2025-04-05T15:34:04.761910",
     "status": "completed"
    },
    "tags": []
   },
   "outputs": [
    {
     "name": "stdout",
     "output_type": "stream",
     "text": [
      "pyspark is installed.\n",
      "findspark is installed.\n",
      "boto3 is installed.\n",
      "papermill is installed.\n",
      "pyarrow is installed.\n",
      "pandas is installed.\n",
      "langchain is installed.\n"
     ]
    },
    {
     "name": "stdout",
     "output_type": "stream",
     "text": [
      "ollama is installed.\n"
     ]
    },
    {
     "name": "stdout",
     "output_type": "stream",
     "text": [
      "langchain_ollama is installed.\n",
      "langchain_chroma is installed.\n"
     ]
    }
   ],
   "source": [
    "libraries = [\n",
    "    'pyspark', 'findspark', 'boto3', 'papermill', 'pyarrow', 'pandas', \n",
    "    'langchain', 'ollama', 'langchain_ollama', 'langchain_chroma'\n",
    "]\n",
    "\n",
    "for library in libraries:\n",
    "    try:\n",
    "        exec(f\"import {library}\")\n",
    "        print(f\"{library} is installed.\")\n",
    "    except ImportError:\n",
    "        print(f\"{library} is NOT installed.\")\n"
   ]
  },
  {
   "cell_type": "code",
   "execution_count": 6,
   "id": "bb50f66b-425e-4436-a0e1-622dd2a1a8e9",
   "metadata": {
    "execution": {
     "iopub.execute_input": "2025-04-05T15:34:05.401640Z",
     "iopub.status.busy": "2025-04-05T15:34:05.401432Z",
     "iopub.status.idle": "2025-04-05T15:34:05.405633Z",
     "shell.execute_reply": "2025-04-05T15:34:05.405365Z"
    },
    "papermill": {
     "duration": 0.006944,
     "end_time": "2025-04-05T15:34:05.406198",
     "exception": false,
     "start_time": "2025-04-05T15:34:05.399254",
     "status": "completed"
    },
    "tags": []
   },
   "outputs": [
    {
     "data": {
      "text/plain": [
       "'\\nSince Ollama and Jupyter Notebook run in separate containers, \\nJupyter needs to communicate with Ollama via HTTP requests, \\nbecause they are not in the same process or environment.\\n'"
      ]
     },
     "execution_count": 6,
     "metadata": {},
     "output_type": "execute_result"
    }
   ],
   "source": [
    "\"\"\"\n",
    "Since Ollama and Jupyter Notebook run in separate containers, \n",
    "Jupyter needs to communicate with Ollama via HTTP requests, \n",
    "because they are not in the same process or environment.\n",
    "\"\"\""
   ]
  },
  {
   "cell_type": "code",
   "execution_count": 7,
   "id": "14982f2a-44f6-4418-b39a-bef950c188bb",
   "metadata": {
    "execution": {
     "iopub.execute_input": "2025-04-05T15:34:05.409594Z",
     "iopub.status.busy": "2025-04-05T15:34:05.409496Z",
     "iopub.status.idle": "2025-04-05T15:34:10.879826Z",
     "shell.execute_reply": "2025-04-05T15:34:10.879218Z"
    },
    "papermill": {
     "duration": 5.473181,
     "end_time": "2025-04-05T15:34:10.880911",
     "exception": false,
     "start_time": "2025-04-05T15:34:05.407730",
     "status": "completed"
    },
    "tags": []
   },
   "outputs": [
    {
     "name": "stdout",
     "output_type": "stream",
     "text": [
      "<think>\n",
      "\n",
      "</think>\n",
      "\n",
      "The capital of France is Paris.\n"
     ]
    }
   ],
   "source": [
    "import requests\n",
    "import json\n",
    "\n",
    "# Model name(to be potentially pulled) and prompt\n",
    "model_name = \"deepseek-r1:7b\"\n",
    "prompt = \"What is the capital of France?\"\n",
    "\n",
    "## Pulling the model from Ollama API\n",
    "_ = requests.post('http://ollama:11434/api/pull', json={\n",
    "    \"name\": model_name\n",
    "})\n",
    "\n",
    "## Post request to the API for the response\n",
    "response = requests.post('http://ollama:11434/api/generate', json={\n",
    "    \"model\": model_name,\n",
    "    \"prompt\": prompt,\n",
    "    \"stream\": False\n",
    "}).json()\n",
    "answers = response[\"response\"].split('\\n')\n",
    "for answer in answers:\n",
    "    print(answer)\n"
   ]
  },
  {
   "cell_type": "code",
   "execution_count": 8,
   "id": "b1910727-4204-4506-b629-83412dbf89ff",
   "metadata": {
    "execution": {
     "iopub.execute_input": "2025-04-05T15:34:10.886960Z",
     "iopub.status.busy": "2025-04-05T15:34:10.886804Z",
     "iopub.status.idle": "2025-04-05T15:34:12.959674Z",
     "shell.execute_reply": "2025-04-05T15:34:12.959317Z"
    },
    "papermill": {
     "duration": 2.076506,
     "end_time": "2025-04-05T15:34:12.960354",
     "exception": false,
     "start_time": "2025-04-05T15:34:10.883848",
     "status": "completed"
    },
    "tags": []
   },
   "outputs": [
    {
     "name": "stdout",
     "output_type": "stream",
     "text": [
      "<think>\n",
      "\n",
      "</think>\n",
      "\n",
      "The capital of Thailand is Bangkok.\n"
     ]
    }
   ],
   "source": [
    "from langchain_ollama.llms import OllamaLLM\n",
    "\n",
    "# Explicitly define Ollama's API base URL\n",
    "llm = OllamaLLM(\n",
    "    model=\"deepseek-r1:7b\",\n",
    "    temperature=0,\n",
    "    # base_url=\"http://ollama:11434\"\n",
    "    base_url=\"http://host.docker.internal:11434\" # need to refer because it run as separate container the langchain not know what the end point of model are so this is need to be attached\n",
    "\n",
    ")\n",
    "\n",
    "# Define a simple question prompt\n",
    "question = \"What is the capital of thailand?\"\n",
    "response = llm.invoke(question)\n",
    "\n",
    "# Print the response\n",
    "print(response)\n"
   ]
  }
 ],
 "metadata": {
  "kernelspec": {
   "display_name": "Python 3 (ipykernel)",
   "language": "python",
   "name": "python3"
  },
  "language_info": {
   "codemirror_mode": {
    "name": "ipython",
    "version": 3
   },
   "file_extension": ".py",
   "mimetype": "text/x-python",
   "name": "python",
   "nbconvert_exporter": "python",
   "pygments_lexer": "ipython3",
   "version": "3.11.6"
  },
  "papermill": {
   "default_parameters": {},
   "duration": 19.595857,
   "end_time": "2025-04-05T15:34:13.280338",
   "environment_variables": {},
   "exception": null,
   "input_path": "/home/jovyan/notebooks/Doc/testbrid.ipynb",
   "output_path": "/home/jovyan/notebooks/Log_output/Doc_bird/testbrid_executed.ipynb",
   "parameters": {
    "nb_parm": "bridnok"
   },
   "start_time": "2025-04-05T15:33:53.684481",
   "version": "2.6.0"
  },
  "toc": {
   "base_numbering": 0
  }
 },
 "nbformat": 4,
 "nbformat_minor": 5
}