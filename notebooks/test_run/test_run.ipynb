{
 "cells": [
  {
   "cell_type": "code",
   "execution_count": null,
   "id": "e7a6a230-19f1-454a-aef8-f089ab75f41b",
   "metadata": {
    "editable": true,
    "slideshow": {
     "slide_type": "skip"
    },
    "tags": [
     "parameters"
    ]
   },
   "outputs": [],
   "source": [
    "# paramter cell do not remove!!\n",
    "nb_parm='datalake|raw/pdf|Birddiversityanddistribution|pdf||300|150'\n",
    "# nb_parm='datalake|raw/text-csv|PFW_spp_translation_table_May2024|csv||300|150'\n",
    "# nb_parm='datalake|raw/text-csv|BRID_data|txt||300|150'\n",
    "embed_model = \"mxbai-embed-large\" \n",
    "gen_model = \"deepseek-r1:7b\" #\"command-r\"\n",
    "collection = \"Bridknowledge\""
   ]
  },
  {
   "cell_type": "code",
   "execution_count": null,
   "id": "b8f19312-91b2-4d98-b309-3c007391f339",
   "metadata": {},
   "outputs": [],
   "source": [
    "import sys\n",
    "import os\n",
    "\n",
    "sys.path.append(\"/home/jovyan/notebooks\")\n",
    "from Framework.module import Utility"
   ]
  },
  {
   "cell_type": "markdown",
   "id": "cc39e6fb-4aa2-49f8-8bc1-d876001dd0a3",
   "metadata": {},
   "source": [
    "## Do the task After this"
   ]
  },
  {
   "cell_type": "code",
   "execution_count": null,
   "id": "e67dea75-64ac-4690-82a3-415a653e6ed4",
   "metadata": {},
   "outputs": [],
   "source": [
    "print(nb_parm)"
   ]
  }
 ],
 "metadata": {
  "kernelspec": {
   "display_name": "Python 3 (ipykernel)",
   "language": "python",
   "name": "python3"
  },
  "language_info": {
   "codemirror_mode": {
    "name": "ipython",
    "version": 3
   },
   "file_extension": ".py",
   "mimetype": "text/x-python",
   "name": "python",
   "nbconvert_exporter": "python",
   "pygments_lexer": "ipython3",
   "version": "3.11.6"
  }
 },
 "nbformat": 4,
 "nbformat_minor": 5
}
