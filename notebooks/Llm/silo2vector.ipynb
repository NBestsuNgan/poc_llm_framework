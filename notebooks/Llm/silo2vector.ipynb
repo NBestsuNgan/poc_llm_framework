{
 "cells": [
  {
   "cell_type": "code",
   "execution_count": 47,
   "id": "4b38df5f-3f37-41af-9ca4-9281c59382ee",
   "metadata": {
    "editable": true,
    "slideshow": {
     "slide_type": "skip"
    },
    "tags": [
     "parameters"
    ]
   },
   "outputs": [],
   "source": [
    "# paramter cell do not remove!!\n",
    "nb_parm='datalake|raw/pdf|Birddiversityanddistribution.pdf'\n",
    "question = ''"
   ]
  },
  {
   "cell_type": "code",
   "execution_count": 48,
   "id": "bf819a96-44a2-4ff8-855e-7a7aab695c34",
   "metadata": {},
   "outputs": [],
   "source": [
    "import sys\n",
    "import os\n",
    "\n",
    "sys.path.append(\"/home/jovyan/notebooks\")\n",
    "from Framework.module import Utility"
   ]
  },
  {
   "cell_type": "code",
   "execution_count": 49,
   "id": "106e1347-3219-4752-a58a-b25c24773548",
   "metadata": {},
   "outputs": [],
   "source": [
    "## Do the task After this"
   ]
  },
  {
   "cell_type": "code",
   "execution_count": 50,
   "id": "357bb00d-abbb-49b6-9688-2e5c2d7f371c",
   "metadata": {},
   "outputs": [
    {
     "name": "stdout",
     "output_type": "stream",
     "text": [
      "bucket_name: datalake\n",
      "path_to_file: raw/pdf\n",
      "file_name: Birddiversityanddistribution.pdf\n"
     ]
    }
   ],
   "source": [
    "bucket_name, path_to_file, file_name = nb_parm.split('|')\n",
    "print(\"bucket_name:\", bucket_name)\n",
    "print(\"path_to_file:\", path_to_file)\n",
    "print(\"file_name:\", file_name)"
   ]
  },
  {
   "cell_type": "code",
   "execution_count": 51,
   "id": "fe7a41f7-7fdc-404e-8d5b-8c9c1bb6cab4",
   "metadata": {},
   "outputs": [],
   "source": [
    "client = weaviate.connect_to_custom(\n",
    "    http_host=\"host.docker.internal\",\n",
    "    http_port=8081,\n",
    "    http_secure=False,\n",
    "    grpc_host=\"host.docker.internal\",\n",
    "    grpc_port=50051,\n",
    "    grpc_secure=False,\n",
    ")\n",
    "client.collections.delete(\"BridsKnowledge\")"
   ]
  },
  {
   "cell_type": "code",
   "execution_count": 52,
   "id": "5f808546-d254-4dd4-b708-6337eb78ec97",
   "metadata": {},
   "outputs": [],
   "source": [
    "import uuid\n",
    "import weaviate\n",
    "import pdfplumber\n",
    "from weaviate.classes.config import Configure\n",
    "from datetime import datetime\n",
    "from weaviate.classes.config import Property, DataType\n",
    "import io\n",
    "\n",
    "OLLAMA_API = \"http://host.docker.internal:11434\"\n",
    "EMBED_MODEL = \"mxbai-embed-large\"\n",
    "GEN_MODEL = \"deepseek-r1:7b\"\n",
    "\n",
    "def create_collection(client):\n",
    "    if \"BridsKnowledge\" in client.collections.list_all():\n",
    "        return client.collections.get(\"BridsKnowledge\")\n",
    "\n",
    "    return client.collections.create(\n",
    "        name=\"BridsKnowledge\",\n",
    "        vectorizer_config=Configure.Vectorizer.text2vec_ollama(\n",
    "            api_endpoint=OLLAMA_API,\n",
    "            model=EMBED_MODEL\n",
    "        ),\n",
    "        generative_config=Configure.Generative.ollama(\n",
    "            api_endpoint=OLLAMA_API,\n",
    "            model=GEN_MODEL\n",
    "        ),\n",
    "        properties=[\n",
    "            Property(name=\"title\", data_type=DataType.TEXT),\n",
    "            Property(name=\"content\", data_type=DataType.TEXT),\n",
    "            Property(name=\"source_type\", data_type=DataType.TEXT),\n",
    "            Property(name=\"source_id\", data_type=DataType.TEXT),\n",
    "            Property(name=\"chunk_index\", data_type=DataType.INT),\n",
    "            Property(name=\"timestamp\", data_type=DataType.DATE)\n",
    "        ]\n",
    "    )\n",
    "\n",
    "def chunk_text(text, chunk_size=300, overlap=50):\n",
    "    words = text.split()\n",
    "    chunks = []\n",
    "    for i in range(0, len(words), chunk_size - overlap):\n",
    "        chunk = \" \".join(words[i:i + chunk_size])\n",
    "        chunks.append(chunk)\n",
    "    return chunks\n",
    "\n",
    "def ingest_pdf_to_weaviate(bucket_name, path_to_file, title=None):\n",
    "    client = weaviate.connect_to_custom(\n",
    "        http_host=\"host.docker.internal\",\n",
    "        http_port=8081,\n",
    "        http_secure=False,\n",
    "        grpc_host=\"host.docker.internal\",\n",
    "        grpc_port=50051,\n",
    "        grpc_secure=False,\n",
    "    )\n",
    "\n",
    "    kb = create_collection(client)\n",
    "    \n",
    "    # Get PDF file as bytes from MinIO\n",
    "    file_bytes = Utility.af_read_csv(bucket_name, path_to_file)\n",
    "    \n",
    "    # title = title or path_to_file.split(\"/\")[-1]\n",
    "    title = 'pdf-ingest'\n",
    "    source_id = str(uuid.uuid4())\n",
    "    timestamp = datetime.utcnow().replace(microsecond=0).isoformat() + \"Z\"\n",
    "    \n",
    "    chunk_index = 0\n",
    "    with pdfplumber.open(io.BytesIO(file_bytes)) as pdf:\n",
    "        for page in pdf.pages:\n",
    "            text = page.extract_text()\n",
    "            if text:\n",
    "                chunks = chunk_text(text)\n",
    "                for chunk in chunks:\n",
    "                    kb.data.insert({\n",
    "                        \"title\": title,\n",
    "                        \"content\": chunk,\n",
    "                        \"source_type\": \"pdf\",\n",
    "                        \"source_id\": source_id,\n",
    "                        \"chunk_index\": chunk_index,\n",
    "                        \"timestamp\": timestamp\n",
    "                    })\n",
    "                    chunk_index += 1\n",
    "\n",
    "    client.close()\n",
    "    print(f\"Ingested {chunk_index} chunks from '{title}'\")\n"
   ]
  },
  {
   "cell_type": "code",
   "execution_count": 53,
   "id": "6e717d1e-4776-4e98-aef5-1a094488c9a2",
   "metadata": {},
   "outputs": [
    {
     "name": "stderr",
     "output_type": "stream",
     "text": [
      "CropBox missing from /Page, defaulting to MediaBox\n",
      "CropBox missing from /Page, defaulting to MediaBox\n",
      "CropBox missing from /Page, defaulting to MediaBox\n",
      "CropBox missing from /Page, defaulting to MediaBox\n",
      "CropBox missing from /Page, defaulting to MediaBox\n",
      "CropBox missing from /Page, defaulting to MediaBox\n",
      "CropBox missing from /Page, defaulting to MediaBox\n",
      "CropBox missing from /Page, defaulting to MediaBox\n",
      "CropBox missing from /Page, defaulting to MediaBox\n",
      "CropBox missing from /Page, defaulting to MediaBox\n",
      "CropBox missing from /Page, defaulting to MediaBox\n",
      "CropBox missing from /Page, defaulting to MediaBox\n",
      "CropBox missing from /Page, defaulting to MediaBox\n",
      "CropBox missing from /Page, defaulting to MediaBox\n"
     ]
    },
    {
     "name": "stdout",
     "output_type": "stream",
     "text": [
      "Ingested 19 chunks from 'pdf-ingest'\n"
     ]
    }
   ],
   "source": [
    "ingest_pdf_to_weaviate(bucket_name, path_to_file+'/'+file_name)\n"
   ]
  },
  {
   "cell_type": "code",
   "execution_count": 54,
   "id": "01103be7-e5fa-48a2-83ec-33857710273f",
   "metadata": {},
   "outputs": [
    {
     "name": "stdout",
     "output_type": "stream",
     "text": [
      "{\n",
      "  \"title\": \"pdf-ingest\",\n",
      "  \"source_id\": \"38cd45c9-a99c-4a57-9be1-f3922813de45\",\n",
      "  \"chunk_index\": 13,\n",
      "  \"content\": \"generalization were observed. For example Myophonus caeruleus (Scopoli, 1786), Phalacro coraxniger (Vieillot 1817), Rhyacornis fuliginosus, Pycnonotuscafer, Enicurus schistaceus (Hodgson 1837), White-crested Laughingthrush and Phoenicurus erythrogaster (G\\u00fcldenst\\u00e4dt 1775) were recorded in all habitat type. On the contrary, Passer domesticus (Linnaeus 1758), Aethopyga siparaja (Raffles 1822), Acridothere stristis (Linnaeus 1766), Columba livia (Gmelin 1789), Dicrurus macrocercus (Vieillot 1817), Pycnonotus melanicterus (Gmelin 1789) and Psittacula eupatriawere recorded in settlement. Although human settlement areas have mixtures of built habitats and green patches, bird species have managed to exist and thrive in this complex habitat (Sandstorm et al.2005). This is explained by the availability of ecological requirements for the species offered by a mixture of an environment with settlement and garden patches (Sandstorm et al.2005). In general, smaller population size is associated with greater risk of extinction locally, regionally, or globally (Gibbons andGregory 2006). Other than White bellied Heron, bird species like River Lapwing, Alexandrine Parakeet and Great hornbill were some of the species sighted in limited number. Therefore more study is required to confirm the conservation status of these bird species whose population seems to be minimal in comparing with other species in the study area. CONCLUSION To grasp better knowledge on bird species composition and diversity, it is felt necessary to take into account of other possible factors that might have greater influence on bird species composition and diversity. It is also felt that such studies should encompass all the season of the year. So, long term study should be considered to really understand birds and its relationship with altitude, habitat variables and surrounding environment. The observations indicate that this river support both terrestrial and aquatic birds like White-bellied Heron (Critically endangered), Great Hornbill, Alexandrine Parakeet and River Lapwing (Near threatened)for feeding and\",\n",
      "  \"timestamp\": \"2025-04-08T10:48:32+00:00\",\n",
      "  \"source_type\": \"pdf\"\n",
      "}\n",
      "0.7964646816253662\n"
     ]
    }
   ],
   "source": [
    "import weaviate\n",
    "import json\n",
    "from datetime import datetime\n",
    "from weaviate.classes.query import MetadataQuery, Filter\n",
    "\n",
    "def serialize(obj):\n",
    "    \"\"\"Helper function to handle serialization of datetime objects.\"\"\"\n",
    "    if isinstance(obj, datetime):\n",
    "        return obj.isoformat()  # Convert datetime to string in ISO format\n",
    "    raise TypeError(\"Type not serializable\")\n",
    "\n",
    "client = weaviate.connect_to_custom(\n",
    "    http_host=\"host.docker.internal\",\n",
    "    http_port=8081,\n",
    "    http_secure=False,  # Set to True if using HTTPS\n",
    "    grpc_host=\"host.docker.internal\",\n",
    "    grpc_port=50051,\n",
    "    grpc_secure=False,  # Set to True if using a secure gRPC connection\n",
    ")\n",
    "\n",
    "questions = client.collections.get(\"BridsKnowledge\")\n",
    "\n",
    "# Perform the text generation\n",
    "response = questions.query.bm25(\n",
    "    query=\"conclusion\",\n",
    "    limit=10,\n",
    "    query_properties=[\"content\"],\n",
    "    return_metadata=MetadataQuery(score=True),\n",
    ")\n",
    "\n",
    "# # Extract and print the text results\n",
    "# for obj in response.objects:\n",
    "#     # Convert the properties to JSON string format, handling datetime objects\n",
    "#     print(json.dumps(obj.properties, default=serialize, indent=2))\n",
    "\n",
    "#     # # If you are specifically looking for the generated text (depending on the structure)\n",
    "#     # # assuming the text is stored under a specific property like 'content'\n",
    "#     # generated_text = obj.properties.get(\"content\", \"No content found\")\n",
    "#     # print(\"Generated Text:\", generated_text)\n",
    "\n",
    "for obj in response.objects:\n",
    "    print(json.dumps(obj.properties, default=serialize, indent=2))\n",
    "    print(json.dumps(obj.metadata.score, default=serialize, indent=2))\n",
    "\n",
    "\n",
    "client.close()  # Free up resources\n"
   ]
  },
  {
   "cell_type": "code",
   "execution_count": null,
   "id": "65726cce-de48-4143-83c1-07ff7fcc0c6d",
   "metadata": {},
   "outputs": [],
   "source": []
  }
 ],
 "metadata": {
  "kernelspec": {
   "display_name": "Python 3 (ipykernel)",
   "language": "python",
   "name": "python3"
  },
  "language_info": {
   "codemirror_mode": {
    "name": "ipython",
    "version": 3
   },
   "file_extension": ".py",
   "mimetype": "text/x-python",
   "name": "python",
   "nbconvert_exporter": "python",
   "pygments_lexer": "ipython3",
   "version": "3.11.6"
  }
 },
 "nbformat": 4,
 "nbformat_minor": 5
}
