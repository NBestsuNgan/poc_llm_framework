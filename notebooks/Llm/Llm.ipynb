{
 "cells": [
  {
   "cell_type": "code",
   "execution_count": 1,
   "id": "ebb9e884-4ae5-4dd4-99c3-5125ffe52628",
   "metadata": {
    "editable": true,
    "slideshow": {
     "slide_type": "skip"
    },
    "tags": [
     "parameters"
    ]
   },
   "outputs": [],
   "source": [
    "# paramter cell do not remove!!\n",
    "# nb_parm='datalake|raw/pdf|Birddiversityanddistribution|pdf||300|150'\n",
    "# nb_parm='datalake|raw/text-csv|PFW_spp_translation_table_May2024|csv||300|150'\n",
    "nb_parm='llmnok'\n",
    "question = 'how many bird species are in migratory?'\n",
    "embed_model = \"mxbai-embed-large\" \n",
    "gen_model = \"deepseek-r1:7b\"\n",
    "collection = \"Bridknowledge\""
   ]
  },
  {
   "cell_type": "code",
   "execution_count": 2,
   "id": "3302ad37-1e8a-4280-a593-680668f30553",
   "metadata": {},
   "outputs": [],
   "source": [
    "import sys\n",
    "import os\n",
    "\n",
    "sys.path.append(\"/home/jovyan/notebooks\")\n",
    "from Framework.module import Utility"
   ]
  },
  {
   "cell_type": "markdown",
   "id": "75a43fd0-ce95-4339-a11b-4205887c6842",
   "metadata": {},
   "source": [
    "## Do the task After this"
   ]
  },
  {
   "cell_type": "code",
   "execution_count": 3,
   "id": "fddf70a2-66c6-4f2a-b3f4-b65a209596bf",
   "metadata": {},
   "outputs": [
    {
     "name": "stdout",
     "output_type": "stream",
     "text": [
      "nb_parm: llmnok\n",
      "question: how many bird species are in migratory?\n",
      "embed_model: mxbai-embed-large\n",
      "gen_model: deepseek-r1:7b\n",
      "collection: Bridknowledge\n"
     ]
    }
   ],
   "source": [
    "print(\"nb_parm:\", nb_parm)\n",
    "print(\"question:\", question)\n",
    "print(\"embed_model:\", embed_model)\n",
    "print(\"gen_model:\", gen_model)\n",
    "print(\"collection:\", collection)"
   ]
  },
  {
   "cell_type": "markdown",
   "id": "abf356df-4308-46ef-a42c-8da3b658da50",
   "metadata": {},
   "source": [
    "## Download module"
   ]
  },
  {
   "cell_type": "code",
   "execution_count": 2,
   "id": "366e271b-5dae-4e29-9f59-e4746a827c74",
   "metadata": {},
   "outputs": [
    {
     "name": "stderr",
     "output_type": "stream",
     "text": [
      "USER_AGENT environment variable not set, consider setting it to identify your requests.\n"
     ]
    }
   ],
   "source": [
    "import bs4\n",
    "from langchain.prompts import PromptTemplate\n",
    "from langchain.text_splitter import RecursiveCharacterTextSplitter\n",
    "from langchain_community.document_loaders import WebBaseLoader\n",
    "from langchain_community.vectorstores import Chroma\n",
    "from langchain_core.output_parsers import StrOutputParser\n",
    "from langchain_core.runnables import RunnablePassthrough, RunnableLambda\n",
    "from langchain_community.embeddings import OllamaEmbeddings\n",
    "from langchain_ollama.llms import OllamaLLM\n",
    "from langchain_community.vectorstores import Weaviate\n",
    "from weaviate.classes.query import MetadataQuery, Filter\n",
    "import weaviate\n",
    "import pdfplumber\n",
    "import io\n",
    "import pandas as pd"
   ]
  },
  {
   "cell_type": "markdown",
   "id": "e6528bc2-88db-49d0-b30d-71505fb51875",
   "metadata": {},
   "source": [
    "## Retrieval"
   ]
  },
  {
   "cell_type": "code",
   "execution_count": 13,
   "id": "0cb2267a-9577-46aa-9867-d47ffa620f4a",
   "metadata": {},
   "outputs": [
    {
     "name": "stdout",
     "output_type": "stream",
     "text": [
      "context 1: INTRODUCTION According to Choudhury (2007), Bhutan has been fairly well covered by ornithological surveys and the entire country forms a part of Eastern Himalaya Endemic Bird area (Stattersfield et al.,1998). As per United Nations Environment Program [UNEP] and Convention on Conservation of Migratory Species [CCMS](UNEP2009), 9856 bird species are recorded worldwide. Out of which 1855 species are migratory, 262 species are seabirds, 343 species are altitudinal migrants, 181 species are nomadic and 1593 species are migratory land and waterbirds. Over 800 species of birds are estimated to be found in Bhutan of which frequent numbers of winter visitors, such as migrant thrushes are found in addition to 450 species of resident birds (Sherpa2000). Forest is the most significant habitat for birds by supporting around 75% of all bird species while only 45% of all bird species have adapted to humans modified habitats (Birdlife International2008).Human activities such as farming, settlement, charcoal making, pole cutting and firewood collection have contributed in degradation which has extensively damaged the natural habitat of birds, affecting their variety and variability (Storch et al.2003).The threats to bird populations are immeasurable including habitat loss, fragmentation and severe anthropogenic pressures. Therefore the need to study the current composition and status of bird species as a basis for future monitoring and implementation of appropriate conservation measures (Choudhury 1991; Chandra andSingh2004).Birds constitute one of the common fauna of all habitat types, and because they are responsive to change, their diversity and abundance can reflect ecological trends in other biodiversity (Furness andGreenwood1993). MATERIALS AND METHODS Study Area Punatshangchhu (referred to as Sunkosh River in this paper) has a total length of about 320 kilometers from its source in Bhutan to its confluence point with Brahmaputra in India (Choden 2009). Therefore its river basin is one of the major river basins in Bhutan\n",
      "\n",
      "\n",
      "context 2: in Bavi National Park. The Ornithology Society of Japan. Ornithological Science. 5(1): 121-125. UNEP. (2009).Convention on migratory species. United Nations Environment Program, USA. Waterhouse, F.L., Mather, M.H.and Seip, D. (2002). Distribution and abundance of birds relative to elevation and biogeoclimatic zones in Coastal old growth forest. Southern British Columbia. 2(2). Whitney, G.G.and Adams, S.D. (1980). Man as a maker of new plant communities. Journal of Applied Ecology.17: 341-448. Zakaria, M., Rajpar, M.N.and Sajap, A.S. (2009). Diversity and feeding guilds of birds in Paya Indah wetland Reserve, Peninsular Malaysia. International Journal of Zoological Research. 14.\n",
      "\n",
      "\n",
      "context 3: communities. Springer-Verlag, New York, USA. 146-158. PHCB. (2005).Population and Housing Census of Bhutan.Royal Government of Bhutan, Thimphu. Rittiboon, K. and Karntanut, W. (2011). Distribution of resident birds in a protected tropical habitats in South Thailand. Journal of Issaas.17(2): 95-103. Rodriguez-Estrella, R. (2007). Land use changes affect distributional patterns of dessert birds in the Baja California Peninsula, Mexico. Diversity and Distribution.13: 877-889. Sandstorm,U.G., Angelstam, P.and Mikusinski, G.(2005). Ecological diversity of birds in relation to the structure of urban green space. Landscape Urban Planning.77: 39-53. Sherpa, M.N. (2000).Biodiversity Conservation in Bhutan.Royal Government of Bhutan, Thimphu Stattersfield, A.J., Crosby, M.J., Long, A.J.and Wege, D.C. (1998). Endemic bird areas of the world: Priorities for bird conservation. Birdlife International (online). Thakur, M.L. (2013). Bird species composition along the altitudinal gradient in Himachal Pradesh (Western Himalaya), India. International Journal of Advanced Biological Research.3(4): 556-562. Thinh, V.T. (2006). Bird species richness and diversity in relation to vegetation in Bavi National Park. The Ornithology Society of Japan. Ornithological Science. 5(1): 121-125. UNEP. (2009).Convention on migratory species. United Nations Environment Program, USA. Waterhouse, F.L., Mather, M.H.and Seip, D. (2002). Distribution and abundance of birds relative to elevation and biogeoclimatic zones in Coastal old growth forest. Southern British Columbia. 2(2). Whitney, G.G.and Adams, S.D. (1980). Man as a maker of new plant communities. Journal of Applied Ecology.17: 341-448. Zakaria, M., Rajpar, M.N.and Sajap, A.S. (2009). Diversity and feeding guilds of birds in Paya Indah wetland Reserve, Peninsular Malaysia. International Journal of Zoological Research. 14.\n",
      "\n",
      "\n"
     ]
    }
   ],
   "source": [
    "client = Utility.registerClient()\n",
    "retriever = client.collections.get(collection)\n",
    "response = retriever.query.bm25( # search without model\n",
    "    # query=\"Conclusion\",\n",
    "    query = \"migratory\",\n",
    "    limit=3,\n",
    "    query_properties=[\"content\"],\n",
    "    return_metadata=MetadataQuery(score=True),\n",
    ")\n",
    "client.close()\n",
    "docs = [obj.properties['content'] for obj in response.objects]\n",
    "for i in range(len(docs)):\n",
    "    print(f\"context {i+1}: {docs[i]}\\n\\n\")"
   ]
  },
  {
   "cell_type": "markdown",
   "id": "3bfa87cf-9185-491c-b5ac-f7289ebbcfcf",
   "metadata": {},
   "source": [
    "## Prompt"
   ]
  },
  {
   "cell_type": "code",
   "execution_count": 9,
   "id": "b5e9e40b-094b-4c06-ba89-ff9820aaa063",
   "metadata": {},
   "outputs": [],
   "source": [
    "prompt = PromptTemplate.from_template(\n",
    "    \"\"\"\n",
    "    Answer the question based only on the context.\n",
    "    Context:{context}\n",
    "    \n",
    "    Question: {question}\n",
    "    \n",
    "    Answer:\n",
    "    \"\"\"\n",
    ")"
   ]
  },
  {
   "cell_type": "markdown",
   "id": "00546728-09ec-42da-8b25-8cd47609b1e2",
   "metadata": {},
   "source": [
    "## LLM"
   ]
  },
  {
   "cell_type": "code",
   "execution_count": 10,
   "id": "e316ae3f-5f9f-45fc-9960-13b0f4d6ef38",
   "metadata": {},
   "outputs": [],
   "source": [
    "llm = OllamaLLM(\n",
    "    model=\"deepseek-r1:7b\",\n",
    "    temperature=0,\n",
    "    base_url=\"http://host.docker.internal:11434\" \n",
    ")"
   ]
  },
  {
   "cell_type": "markdown",
   "id": "1e6e64f1-8f40-4adb-b5d4-2e2dc049e1ea",
   "metadata": {},
   "source": [
    "## Post-processing and chain and question"
   ]
  },
  {
   "cell_type": "code",
   "execution_count": 11,
   "id": "165b3f94-9ad6-46bb-9928-8b47e1eb8e5a",
   "metadata": {},
   "outputs": [
    {
     "name": "stdout",
     "output_type": "stream",
     "text": [
      "\n",
      "Fianl Answer: <think>\n",
      "Alright, so I need to figure out how many bird species are considered migratory based on the provided context. Let me read through the text carefully.\n",
      "\n",
      "The introduction mentions that Bhutan has been well-covered by ornithological surveys and is part of the Eastern Himalaya Endemic Bird Area. It also talks about various categories like endemics, seabirds, altitudinal migrants, nomadic species, and migratory land and waterbirds. \n",
      "\n",
      "Looking further down, under \"MATERIALS AND METHODS,\" there's a study area in Bhutan called Punatshangchhu, which is part of Bavi National Park. The text also lists several references discussing bird populations.\n",
      "\n",
      "In the context provided, I see that UNEP (2009) states there are 1855 migratory species worldwide out of 9856 total bird species. Additionally, the Bhutan-specific data mentions over 800 species with frequent winter visitors like migrant thrushes and resident birds totaling 450.\n",
      "\n",
      "So putting this together, the number of migratory bird species in Bhutan is part of the 1855 mentioned by UNEP. However, since the question asks for how many are \"in migratory,\" I think it refers to the total migratory species globally or within Bhutan. But given that the context specifically mentions 1855 as per UNEP and Choudhury's work on Bhutan, I believe the answer is 1855.\n",
      "</think>\n",
      "\n",
      "The number of bird species considered migratory based on the provided context is **1855**.\n",
      "\n",
      "Answer: 1855\n"
     ]
    }
   ],
   "source": [
    "# Post-processing\n",
    "def format_docs(docs): # result in long text type str\n",
    "    # return \"\\n\\n\".join(doc.page_content for doc in docs)\n",
    "    return RunnableLambda(lambda _: \"\\n\\n\".join(doc for doc in docs))\n",
    "\n",
    "# Chain\n",
    "rag_chain = (\n",
    "    {\"context\": format_docs(docs), \"question\": RunnablePassthrough()}\n",
    "    | prompt\n",
    "    | llm\n",
    "    | StrOutputParser()\n",
    ")\n",
    "\n",
    "# Question\n",
    "result = rag_chain.invoke(question)\n",
    "print(f\"\\nFianl Answer: {result}\")"
   ]
  },
  {
   "cell_type": "code",
   "execution_count": 5,
   "id": "3451f3e1-dd40-4050-966f-ba220d93f3c3",
   "metadata": {},
   "outputs": [
    {
     "name": "stdout",
     "output_type": "stream",
     "text": [
      "\n",
      "Fianl Answer: <think>\n",
      "Alright, so I've got this table here with two columns: \"age\" and \"cust_age\". The values under \"age\" are 48, 49, 36, 46, 35, and 37. Under \"cust_age\", the numbers are 10, 12, 11, 5, 8, and 5 respectively.\n",
      "\n",
      "First off, I notice that both columns have numerical values, but they don't seem to be directly related in an obvious way at first glance. The \"age\" column has higher numbers compared to the \"cust_age\" column for most entries except one where cust_age is also high (12). So maybe there's a pattern or relationship between them.\n",
      "\n",
      "I wonder if \"cust_age\" represents something like customer age, but that doesn't make much sense because typically, a customer's age would be similar to their own age. Maybe it's an error in the data entry? Or perhaps it's a different metric altogether, like the age of a product or another related attribute.\n",
      "\n",
      "Looking at each pair:\n",
      "\n",
      "- 48 vs. 10: A significant difference here.\n",
      "- 49 vs. 12: Also quite a jump from the first one.\n",
      "- 36 vs. 11: Lower than expected.\n",
      "- 46 vs. 5: Huge discrepancy.\n",
      "- 35 vs. 8: Not as extreme but still noticeable.\n",
      "- 37 vs. 5: Another big drop.\n",
      "\n",
      "This makes me think that \"cust_age\" might not be directly related to the actual age in \"age\". It could be a different variable altogether, like the customer's account age or something else entirely. Alternatively, there might be some calculation involved, but without more context, it's hard to say.\n",
      "\n",
      "Another possibility is that \"cust_age\" represents the number of years since the customer joined or was acquired, which would mean subtracting from a current year value. For example, if today's date is 2023 and the customer joined in 2018 at age 46, then cust_age could be 5 (2023 - 2018). But that seems like an unusual use of the term \"age\".\n",
      "\n",
      "Alternatively, maybe \"cust_age\" is a placeholder or has been mistakenly labeled. Perhaps it's supposed to represent something else entirely, and there's confusion in the data naming.\n",
      "\n",
      "In any case, based on the given information, the main difference between the two columns appears to be that they don't have a clear numerical relationship, and \"cust_age\" seems to be an unrelated metric or possibly an error.\n",
      "</think>\n",
      "\n",
      "The \"age\" column represents individual ages, while the \"cust_age\" column likely refers to customer account age or another unrelated metric. There's no clear numerical relationship between them.\n",
      "\n",
      "Answer: The \"age\" column shows individual ages, whereas the \"cust_age\" appears to be a separate metric, possibly representing customer account age or an unrelated value.\n"
     ]
    }
   ],
   "source": [
    "prompt = PromptTemplate.from_template(\n",
    "\"\"\"\n",
    "Answer the question with **only the final output**. Do not include any explanations or <think> tag. Return just answer.\n",
    "\n",
    "Question: {question}\n",
    "\n",
    "Final Answer:\n",
    "\"\"\"\n",
    ")\n",
    "\n",
    "llm = OllamaLLM(\n",
    "    model=\"deepseek-r1:7b\",\n",
    "    temperature=0,\n",
    "    base_url=\"http://host.docker.internal:11434\" \n",
    ")\n",
    "\n",
    "\n",
    "rag_chain = (\n",
    "    {\"question\": RunnablePassthrough()}\n",
    "    | prompt\n",
    "    | llm\n",
    "    | StrOutputParser()\n",
    ")\n",
    "\n",
    "# Question\n",
    "result = rag_chain.invoke(\"\"\"\n",
    "age\t\tcust_age\n",
    "48\t\t10\n",
    "49\t\t12\n",
    "36\t\t11\n",
    "46\t\t5\n",
    "35\t\t8\n",
    "37\t    5\n",
    "\n",
    "can you tell different between these two column\n",
    "\"\"\")\n",
    "print(f\"\\nFianl Answer: {result}\")"
   ]
  },
  {
   "cell_type": "code",
   "execution_count": null,
   "id": "0969fdfd-fbe4-4041-81ef-9dad613991aa",
   "metadata": {},
   "outputs": [],
   "source": []
  }
 ],
 "metadata": {
  "kernelspec": {
   "display_name": "Python 3 (ipykernel)",
   "language": "python",
   "name": "python3"
  },
  "language_info": {
   "codemirror_mode": {
    "name": "ipython",
    "version": 3
   },
   "file_extension": ".py",
   "mimetype": "text/x-python",
   "name": "python",
   "nbconvert_exporter": "python",
   "pygments_lexer": "ipython3",
   "version": "3.11.6"
  }
 },
 "nbformat": 4,
 "nbformat_minor": 5
}
