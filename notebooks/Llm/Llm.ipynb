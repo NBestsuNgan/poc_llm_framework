{
 "cells": [
  {
   "cell_type": "code",
   "execution_count": 1,
   "id": "ebb9e884-4ae5-4dd4-99c3-5125ffe52628",
   "metadata": {
    "editable": true,
    "slideshow": {
     "slide_type": "skip"
    },
    "tags": [
     "parameters"
    ]
   },
   "outputs": [],
   "source": [
    "# paramter cell do not remove!!\n",
    "# nb_parm='datalake|raw/pdf|Birddiversityanddistribution|pdf||300|150'\n",
    "# nb_parm='datalake|raw/text-csv|PFW_spp_translation_table_May2024|csv||300|150'\n",
    "nb_parm='llmnok'\n",
    "question = 'how many bird species are in migratory?'\n",
    "embed_model = \"mxbai-embed-large\" \n",
    "gen_model = \"deepseek-r1:7b\"\n",
    "collection = \"Bridknowledge\""
   ]
  },
  {
   "cell_type": "code",
   "execution_count": 2,
   "id": "3302ad37-1e8a-4280-a593-680668f30553",
   "metadata": {},
   "outputs": [],
   "source": [
    "import sys\n",
    "import os\n",
    "\n",
    "sys.path.append(\"/home/jovyan/notebooks\")\n",
    "from Framework.module import Utility"
   ]
  },
  {
   "cell_type": "markdown",
   "id": "75a43fd0-ce95-4339-a11b-4205887c6842",
   "metadata": {},
   "source": [
    "## Do the task After this"
   ]
  },
  {
   "cell_type": "code",
   "execution_count": 3,
   "id": "fddf70a2-66c6-4f2a-b3f4-b65a209596bf",
   "metadata": {},
   "outputs": [
    {
     "name": "stdout",
     "output_type": "stream",
     "text": [
      "nb_parm: llmnok\n",
      "question: how many bird species are in migratory?\n",
      "embed_model: mxbai-embed-large\n",
      "gen_model: deepseek-r1:7b\n",
      "collection: Bridknowledge\n"
     ]
    }
   ],
   "source": [
    "print(\"nb_parm:\", nb_parm)\n",
    "print(\"question:\", question)\n",
    "print(\"embed_model:\", embed_model)\n",
    "print(\"gen_model:\", gen_model)\n",
    "print(\"collection:\", collection)"
   ]
  },
  {
   "cell_type": "markdown",
   "id": "abf356df-4308-46ef-a42c-8da3b658da50",
   "metadata": {},
   "source": [
    "## Download module"
   ]
  },
  {
   "cell_type": "code",
   "execution_count": 2,
   "id": "366e271b-5dae-4e29-9f59-e4746a827c74",
   "metadata": {},
   "outputs": [
    {
     "name": "stderr",
     "output_type": "stream",
     "text": [
      "USER_AGENT environment variable not set, consider setting it to identify your requests.\n"
     ]
    }
   ],
   "source": [
    "import bs4\n",
    "from langchain.prompts import PromptTemplate\n",
    "from langchain.text_splitter import RecursiveCharacterTextSplitter\n",
    "from langchain_community.document_loaders import WebBaseLoader\n",
    "from langchain_community.vectorstores import Chroma\n",
    "from langchain_core.output_parsers import StrOutputParser\n",
    "from langchain_core.runnables import RunnablePassthrough, RunnableLambda\n",
    "from langchain_community.embeddings import OllamaEmbeddings\n",
    "from langchain_ollama.llms import OllamaLLM\n",
    "from langchain_community.vectorstores import Weaviate\n",
    "from weaviate.classes.query import MetadataQuery, Filter\n",
    "import weaviate\n",
    "import pdfplumber\n",
    "import io\n",
    "import pandas as pd"
   ]
  },
  {
   "cell_type": "markdown",
   "id": "e6528bc2-88db-49d0-b30d-71505fb51875",
   "metadata": {},
   "source": [
    "## Retrieval"
   ]
  },
  {
   "cell_type": "code",
   "execution_count": 13,
   "id": "0cb2267a-9577-46aa-9867-d47ffa620f4a",
   "metadata": {},
   "outputs": [
    {
     "name": "stdout",
     "output_type": "stream",
     "text": [
      "context 1: INTRODUCTION According to Choudhury (2007), Bhutan has been fairly well covered by ornithological surveys and the entire country forms a part of Eastern Himalaya Endemic Bird area (Stattersfield et al.,1998). As per United Nations Environment Program [UNEP] and Convention on Conservation of Migratory Species [CCMS](UNEP2009), 9856 bird species are recorded worldwide. Out of which 1855 species are migratory, 262 species are seabirds, 343 species are altitudinal migrants, 181 species are nomadic and 1593 species are migratory land and waterbirds. Over 800 species of birds are estimated to be found in Bhutan of which frequent numbers of winter visitors, such as migrant thrushes are found in addition to 450 species of resident birds (Sherpa2000). Forest is the most significant habitat for birds by supporting around 75% of all bird species while only 45% of all bird species have adapted to humans modified habitats (Birdlife International2008).Human activities such as farming, settlement, charcoal making, pole cutting and firewood collection have contributed in degradation which has extensively damaged the natural habitat of birds, affecting their variety and variability (Storch et al.2003).The threats to bird populations are immeasurable including habitat loss, fragmentation and severe anthropogenic pressures. Therefore the need to study the current composition and status of bird species as a basis for future monitoring and implementation of appropriate conservation measures (Choudhury 1991; Chandra andSingh2004).Birds constitute one of the common fauna of all habitat types, and because they are responsive to change, their diversity and abundance can reflect ecological trends in other biodiversity (Furness andGreenwood1993). MATERIALS AND METHODS Study Area Punatshangchhu (referred to as Sunkosh River in this paper) has a total length of about 320 kilometers from its source in Bhutan to its confluence point with Brahmaputra in India (Choden 2009). Therefore its river basin is one of the major river basins in Bhutan\n",
      "\n",
      "\n",
      "context 2: in Bavi National Park. The Ornithology Society of Japan. Ornithological Science. 5(1): 121-125. UNEP. (2009).Convention on migratory species. United Nations Environment Program, USA. Waterhouse, F.L., Mather, M.H.and Seip, D. (2002). Distribution and abundance of birds relative to elevation and biogeoclimatic zones in Coastal old growth forest. Southern British Columbia. 2(2). Whitney, G.G.and Adams, S.D. (1980). Man as a maker of new plant communities. Journal of Applied Ecology.17: 341-448. Zakaria, M., Rajpar, M.N.and Sajap, A.S. (2009). Diversity and feeding guilds of birds in Paya Indah wetland Reserve, Peninsular Malaysia. International Journal of Zoological Research. 14.\n",
      "\n",
      "\n",
      "context 3: communities. Springer-Verlag, New York, USA. 146-158. PHCB. (2005).Population and Housing Census of Bhutan.Royal Government of Bhutan, Thimphu. Rittiboon, K. and Karntanut, W. (2011). Distribution of resident birds in a protected tropical habitats in South Thailand. Journal of Issaas.17(2): 95-103. Rodriguez-Estrella, R. (2007). Land use changes affect distributional patterns of dessert birds in the Baja California Peninsula, Mexico. Diversity and Distribution.13: 877-889. Sandstorm,U.G., Angelstam, P.and Mikusinski, G.(2005). Ecological diversity of birds in relation to the structure of urban green space. Landscape Urban Planning.77: 39-53. Sherpa, M.N. (2000).Biodiversity Conservation in Bhutan.Royal Government of Bhutan, Thimphu Stattersfield, A.J., Crosby, M.J., Long, A.J.and Wege, D.C. (1998). Endemic bird areas of the world: Priorities for bird conservation. Birdlife International (online). Thakur, M.L. (2013). Bird species composition along the altitudinal gradient in Himachal Pradesh (Western Himalaya), India. International Journal of Advanced Biological Research.3(4): 556-562. Thinh, V.T. (2006). Bird species richness and diversity in relation to vegetation in Bavi National Park. The Ornithology Society of Japan. Ornithological Science. 5(1): 121-125. UNEP. (2009).Convention on migratory species. United Nations Environment Program, USA. Waterhouse, F.L., Mather, M.H.and Seip, D. (2002). Distribution and abundance of birds relative to elevation and biogeoclimatic zones in Coastal old growth forest. Southern British Columbia. 2(2). Whitney, G.G.and Adams, S.D. (1980). Man as a maker of new plant communities. Journal of Applied Ecology.17: 341-448. Zakaria, M., Rajpar, M.N.and Sajap, A.S. (2009). Diversity and feeding guilds of birds in Paya Indah wetland Reserve, Peninsular Malaysia. International Journal of Zoological Research. 14.\n",
      "\n",
      "\n"
     ]
    }
   ],
   "source": [
    "client = Utility.registerClient()\n",
    "retriever = client.collections.get(collection)\n",
    "response = retriever.query.bm25( # search without model\n",
    "    # query=\"Conclusion\",\n",
    "    query = \"migratory\",\n",
    "    limit=3,\n",
    "    query_properties=[\"content\"],\n",
    "    return_metadata=MetadataQuery(score=True),\n",
    ")\n",
    "client.close()\n",
    "docs = [obj.properties['content'] for obj in response.objects]\n",
    "for i in range(len(docs)):\n",
    "    print(f\"context {i+1}: {docs[i]}\\n\\n\")"
   ]
  },
  {
   "cell_type": "markdown",
   "id": "3bfa87cf-9185-491c-b5ac-f7289ebbcfcf",
   "metadata": {},
   "source": [
    "## Prompt"
   ]
  },
  {
   "cell_type": "code",
   "execution_count": 9,
   "id": "b5e9e40b-094b-4c06-ba89-ff9820aaa063",
   "metadata": {},
   "outputs": [],
   "source": [
    "prompt = PromptTemplate.from_template(\n",
    "    \"\"\"\n",
    "    Answer the question based only on the context.\n",
    "    Context:{context}\n",
    "    \n",
    "    Question: {question}\n",
    "    \n",
    "    Answer:\n",
    "    \"\"\"\n",
    ")"
   ]
  },
  {
   "cell_type": "markdown",
   "id": "00546728-09ec-42da-8b25-8cd47609b1e2",
   "metadata": {},
   "source": [
    "## LLM"
   ]
  },
  {
   "cell_type": "code",
   "execution_count": 10,
   "id": "e316ae3f-5f9f-45fc-9960-13b0f4d6ef38",
   "metadata": {},
   "outputs": [],
   "source": [
    "llm = OllamaLLM(\n",
    "    model=\"deepseek-r1:7b\",\n",
    "    temperature=0,\n",
    "    base_url=\"http://host.docker.internal:11434\" \n",
    ")"
   ]
  },
  {
   "cell_type": "markdown",
   "id": "1e6e64f1-8f40-4adb-b5d4-2e2dc049e1ea",
   "metadata": {},
   "source": [
    "## Post-processing and chain and question"
   ]
  },
  {
   "cell_type": "code",
   "execution_count": 11,
   "id": "165b3f94-9ad6-46bb-9928-8b47e1eb8e5a",
   "metadata": {},
   "outputs": [
    {
     "name": "stdout",
     "output_type": "stream",
     "text": [
      "\n",
      "Fianl Answer: <think>\n",
      "Alright, so I need to figure out how many bird species are considered migratory based on the provided context. Let me read through the text carefully.\n",
      "\n",
      "The introduction mentions that Bhutan has been well-covered by ornithological surveys and is part of the Eastern Himalaya Endemic Bird Area. It also talks about various categories like endemics, seabirds, altitudinal migrants, nomadic species, and migratory land and waterbirds. \n",
      "\n",
      "Looking further down, under \"MATERIALS AND METHODS,\" there's a study area in Bhutan called Punatshangchhu, which is part of Bavi National Park. The text also lists several references discussing bird populations.\n",
      "\n",
      "In the context provided, I see that UNEP (2009) states there are 1855 migratory species worldwide out of 9856 total bird species. Additionally, the Bhutan-specific data mentions over 800 species with frequent winter visitors like migrant thrushes and resident birds totaling 450.\n",
      "\n",
      "So putting this together, the number of migratory bird species in Bhutan is part of the 1855 mentioned by UNEP. However, since the question asks for how many are \"in migratory,\" I think it refers to the total migratory species globally or within Bhutan. But given that the context specifically mentions 1855 as per UNEP and Choudhury's work on Bhutan, I believe the answer is 1855.\n",
      "</think>\n",
      "\n",
      "The number of bird species considered migratory based on the provided context is **1855**.\n",
      "\n",
      "Answer: 1855\n"
     ]
    }
   ],
   "source": [
    "# Post-processing\n",
    "def format_docs(docs): # result in long text type str\n",
    "    # return \"\\n\\n\".join(doc.page_content for doc in docs)\n",
    "    return RunnableLambda(lambda _: \"\\n\\n\".join(doc for doc in docs))\n",
    "\n",
    "# Chain\n",
    "rag_chain = (\n",
    "    {\"context\": format_docs(docs), \"question\": RunnablePassthrough()}\n",
    "    | prompt\n",
    "    | llm\n",
    "    | StrOutputParser()\n",
    ")\n",
    "\n",
    "# Question\n",
    "result = rag_chain.invoke(question)\n",
    "print(f\"\\nFianl Answer: {result}\")"
   ]
  },
  {
   "cell_type": "code",
   "execution_count": 7,
   "id": "3451f3e1-dd40-4050-966f-ba220d93f3c3",
   "metadata": {},
   "outputs": [
    {
     "name": "stdout",
     "output_type": "stream",
     "text": [
      "\n",
      "Fianl Answer: <think>\n",
      "Alright, so I need to help this user by creating a short story in one paragraph and then filling it into the specified text block. Let's see what they're asking for exactly. They mentioned \"create some story\" with one paragraph and then fill all the text within ``` {text you produce}```.\n",
      "\n",
      "Hmm, okay, maybe they want me to generate a complete story first and then place that exact text inside those curly braces. But wait, in their initial example, they used \"Final Answer:\" followed by just the answer without any explanation or tags like \"Answer:\". So perhaps I should follow that structure.\n",
      "\n",
      "I need to make sure that when they copy my response, it's exactly as they want: a single paragraph story enclosed within those curly braces. Also, since they specified not to include any explanations or markdown, I have to ensure the output is clean and only contains the text inside the braces after \"Final Answer:\".\n",
      "\n",
      "Let me think about the content of the story. It should be engaging, maybe set in a familiar place like a village, with relatable characters and an interesting conflict. Including elements that show personal growth or overcoming challenges would make it more compelling. I'll need to keep each sentence concise to fit into one paragraph smoothly.\n",
      "\n",
      "Okay, putting it all together: start with setting the scene, introduce the main character, present a problem or challenge, have them face it, and conclude with their triumph. That should cover the necessary elements in a cohesive way.\n",
      "</think>\n",
      "\n",
      "Final Answer:\n",
      "In the heart of the bustling city, where the sun kissed the windows of every home, lived a young girl named Lily. She was known for her kind heart and her ability to see the good in everyone. One day, while walking home from school, she stumbled upon an old, mysterious book hidden under a pile of trash. Curious, she opened it and found a map leading to a secret garden filled with magical flowers that could only be seen at midnight. Determined to explore, Lily ventured into the city's labyrinth, her heart full of excitement. When she reached the garden, she discovered a note addressed to her: \"Find the light within you.\" As she gazed at the glowing flowers, she realized the note was a reflection of her own soul. With newfound wisdom and courage, Lily returned home, her eyes wide with understanding. From that day on, she carried the lessons of the garden with her, guiding others through their own challenges. And so, the city thrived under the light of hearts that were both wise and kind.\n"
     ]
    }
   ],
   "source": [
    "prompt = PromptTemplate.from_template(\n",
    "\"\"\"\n",
    "Answer the question with **only the final output**. Do not include any explanations or <think> tag. Return just answer.\n",
    "\n",
    "Question: {question}\n",
    "\n",
    "Final Answer:\n",
    "\"\"\"\n",
    ")\n",
    "\n",
    "llm = OllamaLLM(\n",
    "    model=\"deepseek-r1:7b\",\n",
    "    temperature=0,\n",
    "    base_url=\"http://host.docker.internal:11434\" \n",
    ")\n",
    "\n",
    "\n",
    "rag_chain = (\n",
    "    {\"question\": RunnablePassthrough()}\n",
    "    | prompt\n",
    "    | llm\n",
    "    | StrOutputParser()\n",
    ")\n",
    "\n",
    "# Question\n",
    "result = rag_chain.invoke(\"create some story for me with one paragraph then fill all text in ``` {text you produce}```.\")\n",
    "print(f\"\\nFianl Answer: {result}\")"
   ]
  }
 ],
 "metadata": {
  "kernelspec": {
   "display_name": "Python 3 (ipykernel)",
   "language": "python",
   "name": "python3"
  },
  "language_info": {
   "codemirror_mode": {
    "name": "ipython",
    "version": 3
   },
   "file_extension": ".py",
   "mimetype": "text/x-python",
   "name": "python",
   "nbconvert_exporter": "python",
   "pygments_lexer": "ipython3",
   "version": "3.11.6"
  }
 },
 "nbformat": 4,
 "nbformat_minor": 5
}
