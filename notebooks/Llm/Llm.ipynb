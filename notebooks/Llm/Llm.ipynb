{
 "cells": [
  {
   "cell_type": "code",
   "execution_count": 74,
   "id": "ebb9e884-4ae5-4dd4-99c3-5125ffe52628",
   "metadata": {
    "editable": true,
    "slideshow": {
     "slide_type": "skip"
    },
    "tags": [
     "parameters"
    ]
   },
   "outputs": [],
   "source": [
    "# paramter cell do not remove!!\n",
    "# nb_parm='datalake|raw/pdf|Birddiversityanddistribution|pdf||300|150'\n",
    "# nb_parm='datalake|raw/text-csv|PFW_spp_translation_table_May2024|csv||300|150'\n",
    "nb_parm='llmnok'\n",
    "question = 'how many bird species are in migratory?'\n",
    "embed_model = \"mxbai-embed-large\" \n",
    "gen_model = \"deepseek-r1:7b\"\n",
    "collection = \"Bridknowledge\""
   ]
  },
  {
   "cell_type": "code",
   "execution_count": 75,
   "id": "3302ad37-1e8a-4280-a593-680668f30553",
   "metadata": {},
   "outputs": [],
   "source": [
    "import sys\n",
    "import os\n",
    "\n",
    "sys.path.append(\"/home/jovyan/notebooks\")\n",
    "from Framework.module import Utility"
   ]
  },
  {
   "cell_type": "code",
   "execution_count": 71,
   "id": "ff73aaad-3eee-4c61-a31e-8ee8c1617e3a",
   "metadata": {},
   "outputs": [],
   "source": [
    "## Do the task After this"
   ]
  },
  {
   "cell_type": "code",
   "execution_count": 77,
   "id": "fddf70a2-66c6-4f2a-b3f4-b65a209596bf",
   "metadata": {},
   "outputs": [
    {
     "name": "stdout",
     "output_type": "stream",
     "text": [
      "nb_parm: llmnok\n",
      "question: how many bird species are in migratory?\n",
      "embed_model: mxbai-embed-large\n",
      "gen_model: deepseek-r1:7b\n",
      "collection: Bridknowledge\n"
     ]
    }
   ],
   "source": [
    "print(\"nb_parm:\", nb_parm)\n",
    "print(\"question:\", question)\n",
    "print(\"embed_model:\", embed_model)\n",
    "print(\"gen_model:\", gen_model)\n",
    "print(\"collection:\", collection)"
   ]
  },
  {
   "cell_type": "code",
   "execution_count": 93,
   "id": "165b3f94-9ad6-46bb-9928-8b47e1eb8e5a",
   "metadata": {},
   "outputs": [
    {
     "name": "stdout",
     "output_type": "stream",
     "text": [
      "context 1: INTRODUCTION According to Choudhury (2007), Bhutan has been fairly well covered by ornithological surveys and the entire country forms a part of Eastern Himalaya Endemic Bird area (Stattersfield et al.,1998). As per United Nations Environment Program [UNEP] and Convention on Conservation of Migratory Species [CCMS](UNEP2009), 9856 bird species are recorded worldwide. Out of which 1855 species are migratory, 262 species are seabirds, 343 species are altitudinal migrants, 181 species are nomadic and 1593 species are migratory land and waterbirds. Over 800 species of birds are estimated to be found in Bhutan of which frequent numbers of winter visitors, such as migrant thrushes are found in addition to 450 species of resident birds (Sherpa2000). Forest is the most significant habitat for birds by supporting around 75% of all bird species while only 45% of all bird species have adapted to humans modified habitats (Birdlife International2008).Human activities such as farming, settlement, charcoal making, pole cutting and firewood collection have contributed in degradation which has extensively damaged the natural habitat of birds, affecting their variety and variability (Storch et al.2003).The threats to bird populations are immeasurable including habitat loss, fragmentation and severe anthropogenic pressures. Therefore the need to study the current composition and status of bird species as a basis for future monitoring and implementation of appropriate conservation measures (Choudhury 1991; Chandra andSingh2004).Birds constitute one of the common fauna of all habitat types, and because they are responsive to change, their diversity and abundance can reflect ecological trends in other biodiversity (Furness andGreenwood1993). MATERIALS AND METHODS Study Area Punatshangchhu (referred to as Sunkosh River in this paper) has a total length of about 320 kilometers from its source in Bhutan to its confluence point with Brahmaputra in India (Choden 2009). Therefore its river basin is one of the major river basins in Bhutan\n",
      "\n",
      "\n",
      "context 2: in Bavi National Park. The Ornithology Society of Japan. Ornithological Science. 5(1): 121-125. UNEP. (2009).Convention on migratory species. United Nations Environment Program, USA. Waterhouse, F.L., Mather, M.H.and Seip, D. (2002). Distribution and abundance of birds relative to elevation and biogeoclimatic zones in Coastal old growth forest. Southern British Columbia. 2(2). Whitney, G.G.and Adams, S.D. (1980). Man as a maker of new plant communities. Journal of Applied Ecology.17: 341-448. Zakaria, M., Rajpar, M.N.and Sajap, A.S. (2009). Diversity and feeding guilds of birds in Paya Indah wetland Reserve, Peninsular Malaysia. International Journal of Zoological Research. 14.\n",
      "\n",
      "\n",
      "context 3: communities. Springer-Verlag, New York, USA. 146-158. PHCB. (2005).Population and Housing Census of Bhutan.Royal Government of Bhutan, Thimphu. Rittiboon, K. and Karntanut, W. (2011). Distribution of resident birds in a protected tropical habitats in South Thailand. Journal of Issaas.17(2): 95-103. Rodriguez-Estrella, R. (2007). Land use changes affect distributional patterns of dessert birds in the Baja California Peninsula, Mexico. Diversity and Distribution.13: 877-889. Sandstorm,U.G., Angelstam, P.and Mikusinski, G.(2005). Ecological diversity of birds in relation to the structure of urban green space. Landscape Urban Planning.77: 39-53. Sherpa, M.N. (2000).Biodiversity Conservation in Bhutan.Royal Government of Bhutan, Thimphu Stattersfield, A.J., Crosby, M.J., Long, A.J.and Wege, D.C. (1998). Endemic bird areas of the world: Priorities for bird conservation. Birdlife International (online). Thakur, M.L. (2013). Bird species composition along the altitudinal gradient in Himachal Pradesh (Western Himalaya), India. International Journal of Advanced Biological Research.3(4): 556-562. Thinh, V.T. (2006). Bird species richness and diversity in relation to vegetation in Bavi National Park. The Ornithology Society of Japan. Ornithological Science. 5(1): 121-125. UNEP. (2009).Convention on migratory species. United Nations Environment Program, USA. Waterhouse, F.L., Mather, M.H.and Seip, D. (2002). Distribution and abundance of birds relative to elevation and biogeoclimatic zones in Coastal old growth forest. Southern British Columbia. 2(2). Whitney, G.G.and Adams, S.D. (1980). Man as a maker of new plant communities. Journal of Applied Ecology.17: 341-448. Zakaria, M., Rajpar, M.N.and Sajap, A.S. (2009). Diversity and feeding guilds of birds in Paya Indah wetland Reserve, Peninsular Malaysia. International Journal of Zoological Research. 14.\n",
      "\n",
      "\n",
      "\n",
      "Fianl Answer: <think>\n",
      "Alright, so I need to figure out how many bird species are considered migratory based on the provided context. Let me read through the text carefully.\n",
      "\n",
      "The introduction mentions that according to Choudhury (2007), Bhutan has been well-covered by ornithological surveys, and the entire country is part of the Eastern Himalaya Endemic Bird Area. It also talks about UNEP and CCMS data from 2009, which state there are 9856 bird species worldwide.\n",
      "\n",
      "Breaking that down: out of these 9856, 1855 are migratory birds. So, the answer should be 1855.\n",
      "</think>\n",
      "\n",
      "The number of migratory bird species in Bhutan is **1855**.\n",
      "\n",
      "Answer: 1855\n"
     ]
    }
   ],
   "source": [
    "import bs4\n",
    "from langchain.prompts import PromptTemplate\n",
    "from langchain.text_splitter import RecursiveCharacterTextSplitter\n",
    "from langchain_community.document_loaders import WebBaseLoader\n",
    "from langchain_community.vectorstores import Chroma\n",
    "from langchain_core.output_parsers import StrOutputParser\n",
    "from langchain_core.runnables import RunnablePassthrough, RunnableLambda\n",
    "from langchain_community.embeddings import OllamaEmbeddings\n",
    "from langchain_ollama.llms import OllamaLLM\n",
    "from langchain_community.vectorstores import Weaviate\n",
    "import weaviate\n",
    "import pdfplumber\n",
    "import io\n",
    "import pandas as pd\n",
    "\n",
    "# Retrieval \n",
    "client = Utility.registerClient()\n",
    "retriever = client.collections.get(collection)\n",
    "response = retriever.query.bm25( # search without model\n",
    "    # query=\"Conclusion\",\n",
    "    query = \"migratory\",\n",
    "    limit=3,\n",
    "    query_properties=[\"content\"],\n",
    "    return_metadata=MetadataQuery(score=True),\n",
    ")\n",
    "client.close()\n",
    "docs = [obj.properties['content'] for obj in response.objects]\n",
    "for i in range(len(docs)):\n",
    "    print(f\"context {i+1}: {docs[i]}\\n\\n\")\n",
    "\n",
    "# Prompt\n",
    "prompt = PromptTemplate.from_template(\n",
    "    \"\"\"\n",
    "    Answer the question based only on the context.\n",
    "    Context:{context}\n",
    "    \n",
    "    Question: {question}\n",
    "    \n",
    "    Answer:\n",
    "    \"\"\"\n",
    ")\n",
    "\n",
    "# LLM\n",
    "llm = OllamaLLM(\n",
    "    model=\"deepseek-r1:7b\",\n",
    "    temperature=0,\n",
    "    base_url=\"http://host.docker.internal:11434\" \n",
    ")\n",
    "\n",
    "# Post-processing\n",
    "def format_docs(docs): # result in long text type str\n",
    "    # return \"\\n\\n\".join(doc.page_content for doc in docs)\n",
    "    return RunnableLambda(lambda _: \"\\n\\n\".join(doc for doc in docs))\n",
    "\n",
    "# Chain\n",
    "rag_chain = (\n",
    "    {\"context\": format_docs(docs), \"question\": RunnablePassthrough()}\n",
    "    | prompt\n",
    "    | llm\n",
    "    | StrOutputParser()\n",
    ")\n",
    "\n",
    "# Question\n",
    "result = rag_chain.invoke(question)\n",
    "print(f\"\\nFianl Answer: {result}\")"
   ]
  },
  {
   "cell_type": "code",
   "execution_count": 61,
   "id": "3451f3e1-dd40-4050-966f-ba220d93f3c3",
   "metadata": {},
   "outputs": [],
   "source": [
    "# client = Utility.registerClient()\n",
    "# for i in client.collections.list_all():\n",
    "#     # print(client.collections.get(i))\n",
    "#     print(\"##################################################\")\n",
    "#     print(i)\n",
    "#     print(\"\\n\\n break line here\")\n",
    "# # client.collections.delete(\"Question\")\n",
    "# # client.collections.delete(\"Csvbrid\")\n",
    "\n",
    "                \n",
    "# client.close()\n",
    "\n",
    "# # Biodiversity in Bhutan: A Comprehensive Overview**\\n\\nBhutan exhibits a rich and unique biodiversity profile, as highlighted by recent studies and data. The country\\'s population census conducted by the PHCB in 2005 provides valuable insights into the demographic and housing landscape, underscoring its ecological significance despite its small size.\\n\\n**Bird Species Diversity:**\\nBhutan is renowned for its diverse bird populations, with species such as the Snow Goose (Cedrus chilinensis) and the Black-vented Weathcerbird (Parus tridactylus) being prominent. The country\\'s varied habitats, including alpine meadows, forests, wetlands, and mountains, support a wide range of bird species, each adapted to specific ecological niches.\\n\\n**Habitat Impact:**\\nThe altitudinal gradient in Bhutan supports distinct avian communities, with higher elevations hosting unique species like the Snow Goose. Urbanization and deforestation have posed challenges, affecting bird distribution patterns as noted by studies on beta diversity along environmental gradients.\\n\\n**Conservation Efforts:**\\nBhutan has implemented measures to protect its ecological integrity, including the establishment of protected areas that support diverse avian communities. International commitments, such as the Convention on Migratory Species, reflect Bhutan\\'s dedication to bird conservation and ecosystem preservation.\\n\\n**Ecological Methods:**\\nThe application of ecological census techniques, as referenced in Gibbons and Gregory\\'s work, has been instrumental in studying Bhutan\\'s bird populations, emphasizing the importance of accurate data collection for biodiversity assessment.\\n\\nIn summary, Bhutan\\'s biodiversity is a testament to its unique ecological landscape, supported by a variety of species adapted to different environments. Despite challenges from human activities, conservation efforts and international agreements ensure the preservation of this vital natural resource.'\n",
    "\n"
   ]
  }
 ],
 "metadata": {
  "kernelspec": {
   "display_name": "Python 3 (ipykernel)",
   "language": "python",
   "name": "python3"
  },
  "language_info": {
   "codemirror_mode": {
    "name": "ipython",
    "version": 3
   },
   "file_extension": ".py",
   "mimetype": "text/x-python",
   "name": "python",
   "nbconvert_exporter": "python",
   "pygments_lexer": "ipython3",
   "version": "3.11.6"
  }
 },
 "nbformat": 4,
 "nbformat_minor": 5
}
