{
 "cells": [
  {
   "cell_type": "code",
   "execution_count": 1,
   "id": "3b08462b-00f7-41e6-a793-57313bd268ee",
   "metadata": {},
   "outputs": [],
   "source": [
    "# paramter cell do not remove!!\n",
    "# nb_parm='datalake|raw/pdf|Birddiversityanddistribution|pdf||300|150'\n",
    "# nb_parm='datalake|raw/text-csv|PFW_spp_translation_table_May2024|csv||300|150'\n",
    "nb_parm='llmnok'\n",
    "question = 'how many bird species are in migratory?'\n",
    "embed_model = \"mxbai-embed-large\" \n",
    "gen_model = \"deepseek-r1:7b\"\n",
    "# collection = \"Bridknowledge\""
   ]
  },
  {
   "cell_type": "code",
   "execution_count": 2,
   "id": "e2081a26-26f3-4c86-a866-60a6affe8962",
   "metadata": {},
   "outputs": [],
   "source": [
    "import sys\n",
    "import os, io\n",
    "\n",
    "sys.path.append(\"/home/jovyan/notebooks\")\n",
    "from Framework.module import Utility"
   ]
  },
  {
   "cell_type": "markdown",
   "id": "c1a53d0e-d028-4a26-b173-5b1b011bb4d9",
   "metadata": {},
   "source": [
    "## Do the task after this"
   ]
  },
  {
   "cell_type": "code",
   "execution_count": 3,
   "id": "aaa421fd-6e63-48e2-97ed-19f1b929ce00",
   "metadata": {},
   "outputs": [
    {
     "name": "stdout",
     "output_type": "stream",
     "text": [
      "CREATED NEW SESSION:\n",
      "\tSession ID: c1e38452-5b40-4f58-adf1-261fa88886bf\n",
      "Final Response: Original Character Count: 20\n",
      "New Character Count: 9\n",
      "New message: How are you?\n",
      "\n"
     ]
    }
   ],
   "source": [
    "# === Use your agent ===\n",
    "import uuid\n",
    "\n",
    "from dotenv import load_dotenv\n",
    "from google.adk.runners import Runner\n",
    "from google.adk.sessions import InMemorySessionService\n",
    "from google.genai import types\n",
    "from adk_short_bot.agent import root_agent\n",
    "\n",
    "load_dotenv()\n",
    "\n",
    "# Create a new session service to store state\n",
    "session_service_stateful = InMemorySessionService()\n",
    "\n",
    "# Create a NEW session\n",
    "APP_NAME = \"Brandon Bot\"\n",
    "USER_ID = \"brandon_hancock\"\n",
    "SESSION_ID = str(uuid.uuid4())\n",
    "stateful_session = session_service_stateful.create_session(\n",
    "    app_name=APP_NAME,\n",
    "    user_id=USER_ID,\n",
    "    session_id=SESSION_ID,\n",
    ")\n",
    "print(\"CREATED NEW SESSION:\")\n",
    "print(f\"\\tSession ID: {SESSION_ID}\")\n",
    "\n",
    "runner = Runner(\n",
    "    agent=root_agent,\n",
    "    app_name=APP_NAME,\n",
    "    session_service=session_service_stateful,\n",
    ")\n",
    "\n",
    "new_message = types.Content(\n",
    "    role=\"user\", parts=[types.Part(text=\"Hey how are you today?\")]\n",
    ")\n",
    "\n",
    "for event in runner.run(\n",
    "    user_id=USER_ID,\n",
    "    session_id=SESSION_ID,\n",
    "    new_message=new_message,\n",
    "):\n",
    "    if event.is_final_response():\n",
    "        if event.content and event.content.parts:\n",
    "            print(f\"Final Response: {event.content.parts[0].text}\")\n",
    "\n",
    "\n"
   ]
  }
 ],
 "metadata": {
  "kernelspec": {
   "display_name": "Python 3 (ipykernel)",
   "language": "python",
   "name": "python3"
  },
  "language_info": {
   "codemirror_mode": {
    "name": "ipython",
    "version": 3
   },
   "file_extension": ".py",
   "mimetype": "text/x-python",
   "name": "python",
   "nbconvert_exporter": "python",
   "pygments_lexer": "ipython3",
   "version": "3.11.6"
  }
 },
 "nbformat": 4,
 "nbformat_minor": 5
}
