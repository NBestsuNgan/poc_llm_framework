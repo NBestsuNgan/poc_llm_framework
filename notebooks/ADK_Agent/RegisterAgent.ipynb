{
 "cells": [
  {
   "cell_type": "code",
   "execution_count": 1,
   "id": "c97741d1-2741-467f-b44f-44d343f8d497",
   "metadata": {},
   "outputs": [],
   "source": [
    "# paramter cell do not remove!!\n",
    "# nb_parm='datalake|raw/pdf|Birddiversityanddistribution|pdf||300|150'\n",
    "# nb_parm='datalake|raw/text-csv|PFW_spp_translation_table_May2024|csv||300|150'\n",
    "nb_parm='llmnok'\n",
    "question = 'how many bird species are in migratory?'\n",
    "embed_model = \"mxbai-embed-large\" \n",
    "gen_model = \"deepseek-r1:7b\"\n",
    "# collection = \"Bridknowledge\""
   ]
  },
  {
   "cell_type": "code",
   "execution_count": 2,
   "id": "0aeb39c6-a15f-4ac8-8926-241e43e1e355",
   "metadata": {},
   "outputs": [],
   "source": [
    "import sys\n",
    "import os, io\n",
    "\n",
    "sys.path.append(\"/home/jovyan/notebooks\")\n",
    "from Framework.module import Utility"
   ]
  },
  {
   "cell_type": "markdown",
   "id": "8e522ae0-8879-4b7a-b769-f75bd14f9b2b",
   "metadata": {},
   "source": [
    "## Do the task after this"
   ]
  },
  {
   "cell_type": "markdown",
   "id": "2898897c-dcd0-4628-ab87-46044f7fcfc5",
   "metadata": {},
   "source": [
    "### Register model"
   ]
  },
  {
   "cell_type": "code",
   "execution_count": 3,
   "id": "e5df3221-9b67-4fdb-97b2-f2cafda3a39b",
   "metadata": {},
   "outputs": [
    {
     "name": "stderr",
     "output_type": "stream",
     "text": [
      "/opt/conda/lib/python3.11/site-packages/langchain_google_genai/chat_models.py:1037: PydanticDeprecatedSince211: Accessing the 'model_fields' attribute on the instance is deprecated. Instead, you should access this attribute from the model class. Deprecated in Pydantic V2.11 to be removed in V3.0.\n",
      "  for field_name, field_info in self.model_fields.items():\n"
     ]
    },
    {
     "name": "stdout",
     "output_type": "stream",
     "text": [
      "Why did the AI cross the road?\n",
      "\n",
      "Because its algorithm predicted a higher probability of finding more training data on the other side!\n"
     ]
    }
   ],
   "source": [
    "from dotenv import load_dotenv\n",
    "import os\n",
    "\n",
    "# Load variables from .env file\n",
    "load_dotenv()\n",
    "\n",
    "# Get your Gemini API key\n",
    "api_key = os.getenv(\"GOOGLE_API_KEY\")\n",
    "# print(f\"Using API Key: {api_key}\")\n",
    "\n",
    "# Then use it with LangChain\n",
    "from langchain_google_genai import ChatGoogleGenerativeAI\n",
    "\n",
    "llm = ChatGoogleGenerativeAI(model=\"gemini-2.0-flash\", google_api_key=api_key)\n",
    "response = llm.invoke(\"Tell me a joke about AI.\")\n",
    "print(response.content)\n"
   ]
  },
  {
   "cell_type": "code",
   "execution_count": 4,
   "id": "7cd84d05-613b-4801-9cc7-603067b01b8d",
   "metadata": {},
   "outputs": [],
   "source": [
    "from Framework import base_tools\n",
    "# filename = base_tools.read_file_from_datalake('datalake', 'Agent/column_meanings.csv')\n",
    "# base_tools.upload_file_to_datalake(file_obj, 'datalake', 'upload/column_meanings.csv') \n",
    "\n"
   ]
  },
  {
   "cell_type": "markdown",
   "id": "1bd5e9be-8847-46ff-89b2-6eb880489468",
   "metadata": {},
   "source": [
    "### 🧱 Step 1: Create Files and Folders in Notebook"
   ]
  },
  {
   "cell_type": "code",
   "execution_count": 5,
   "id": "0505b4b9-233a-4ffa-9989-6bdabf1d7cf4",
   "metadata": {},
   "outputs": [],
   "source": [
    "from pathlib import Path\n",
    "import os\n",
    "\n",
    "# Fix: Convert to Path object\n",
    "project_root = Path(\"/tmp/adk_short_bot_project\")\n",
    "pkg_dir = project_root / \"adk_short_bot\"\n",
    "dist_dir = project_root / \"dist\"\n",
    "\n",
    "# This works now\n",
    "os.makedirs(pkg_dir, exist_ok=True)\n"
   ]
  },
  {
   "cell_type": "markdown",
   "id": "6721e8a6-8b96-4a3f-adf7-01598042eb42",
   "metadata": {},
   "source": [
    "### 🧠 Step 2: Write `agent.py`"
   ]
  },
  {
   "cell_type": "code",
   "execution_count": 6,
   "id": "f7edf644-73f9-443b-8774-61e31040e44e",
   "metadata": {},
   "outputs": [],
   "source": [
    "agent_code = \"\"\"\n",
    "from google.adk.agents import Agent\n",
    "\n",
    "def count_characters(message: str) -> int:\n",
    "    '''\n",
    "    Count the number of characters in a message.\n",
    "\n",
    "    Args:\n",
    "        message (str): The message to count characters for\n",
    "\n",
    "    Returns:\n",
    "        int: The number of characters in the message\n",
    "    '''\n",
    "    return len(message)\n",
    "\n",
    "\n",
    "root_agent = Agent(\n",
    "    name=\"adk_short_bot\",\n",
    "    model=\"gemini-2.0-flash\",\n",
    "    description=\"A bot that shortens messages while maintaining their core meaning\",\n",
    "    instruction='''You are a message shortening assistant. Your task is to take any input message and return a more concise version while maintaining the core meaning and important details.\n",
    "\n",
    "For each message you process, you should:\n",
    "1. Count the original characters\n",
    "2. Create a shortened version that is more concise\n",
    "3. Count the new characters\n",
    "4. Return the results in this exact format:\n",
    "\n",
    "Original Character Count: [number]\n",
    "New Character Count: [number]\n",
    "New message: [shortened message]\n",
    "\n",
    "Rules for shortening:\n",
    "- Remove unnecessary words and phrases\n",
    "- Use shorter synonyms where possible\n",
    "- Maintain proper grammar and readability\n",
    "- Keep all essential information\n",
    "- Don't change the meaning of the message\n",
    "- Don't use abbreviations unless they're commonly understood\n",
    "''',\n",
    "tools=[count_characters],\n",
    ")\n",
    "\"\"\"\n",
    "\n",
    "\n",
    "with open(os.path.join(pkg_dir, \"agent.py\"), \"w\") as f:\n",
    "    f.write(agent_code)\n"
   ]
  },
  {
   "cell_type": "markdown",
   "id": "1be9f27e-e493-4b25-b700-9eff4ae9a807",
   "metadata": {},
   "source": [
    "### 📦 Step 3: Write `setup.py`"
   ]
  },
  {
   "cell_type": "code",
   "execution_count": 7,
   "id": "5056a1ca-4305-4c22-80c7-58ddfcabb0ca",
   "metadata": {},
   "outputs": [],
   "source": [
    "setup_code = \"\"\"\n",
    "from setuptools import setup, find_packages\n",
    "\n",
    "setup(\n",
    "    name=\"adk_short_bot\",\n",
    "    version=\"0.1.0\",\n",
    "    description=\"A short bot agent using Vertex Reasoning Engines\",\n",
    "    packages=find_packages(),\n",
    "    install_requires=[\n",
    "        \"google-cloud-aiplatform[adk,agent_engines]\",\n",
    "    ],\n",
    "    python_requires=\">=3.8\",\n",
    ")\n",
    "\"\"\"\n",
    "\n",
    "with open(os.path.join(project_root, \"setup.py\"), \"w\") as f:\n",
    "    f.write(setup_code)\n"
   ]
  },
  {
   "cell_type": "markdown",
   "id": "58b71eae-a3c7-4c1d-8897-02912d055213",
   "metadata": {},
   "source": [
    "### ✏️ Step 4: Write Empty `__init__.py`"
   ]
  },
  {
   "cell_type": "code",
   "execution_count": 8,
   "id": "56dc7e95-a7f0-4f26-834d-81f35a800e98",
   "metadata": {},
   "outputs": [],
   "source": [
    "init_code = \"from . import agent\"\n",
    "with open(os.path.join(pkg_dir, \"__init__.py\"), \"w\") as f:\n",
    "    f.write(agent_code)"
   ]
  },
  {
   "cell_type": "markdown",
   "id": "047a23a8-81ce-4915-a470-f660f69af1e7",
   "metadata": {},
   "source": [
    "### 🛠️ Step 5: Build .tar.gz and .whl using Python"
   ]
  },
  {
   "cell_type": "code",
   "execution_count": 9,
   "id": "c9b83c3c-2263-4c5d-a265-76355e2a3b3b",
   "metadata": {},
   "outputs": [
    {
     "name": "stdout",
     "output_type": "stream",
     "text": [
      "\n",
      "\u001b[1m[\u001b[0m\u001b[34;49mnotice\u001b[0m\u001b[1;39;49m]\u001b[0m\u001b[39;49m A new release of pip is available: \u001b[0m\u001b[31;49m25.1\u001b[0m\u001b[39;49m -> \u001b[0m\u001b[32;49m25.1.1\u001b[0m\n",
      "\u001b[1m[\u001b[0m\u001b[34;49mnotice\u001b[0m\u001b[1;39;49m]\u001b[0m\u001b[39;49m To update, run: \u001b[0m\u001b[32;49mpip install --upgrade pip\u001b[0m\n",
      "\u001b[1m* Creating isolated environment: venv+pip...\u001b[0m\n",
      "\u001b[1m* Installing packages in isolated environment:\u001b[0m\n",
      "  - setuptools >= 40.8.0\n",
      "\u001b[1m* Getting build dependencies for sdist...\u001b[0m\n",
      "running egg_info\n",
      "writing adk_short_bot.egg-info/PKG-INFO\n",
      "writing dependency_links to adk_short_bot.egg-info/dependency_links.txt\n",
      "writing requirements to adk_short_bot.egg-info/requires.txt\n",
      "writing top-level names to adk_short_bot.egg-info/top_level.txt\n",
      "reading manifest file 'adk_short_bot.egg-info/SOURCES.txt'\n",
      "writing manifest file 'adk_short_bot.egg-info/SOURCES.txt'\n",
      "\u001b[1m* Building sdist...\u001b[0m\n",
      "running sdist\n",
      "running egg_info\n",
      "writing adk_short_bot.egg-info/PKG-INFO\n",
      "writing dependency_links to adk_short_bot.egg-info/dependency_links.txt\n",
      "writing requirements to adk_short_bot.egg-info/requires.txt\n",
      "writing top-level names to adk_short_bot.egg-info/top_level.txt\n",
      "reading manifest file 'adk_short_bot.egg-info/SOURCES.txt'\n",
      "writing manifest file 'adk_short_bot.egg-info/SOURCES.txt'\n",
      "running check\n",
      "creating adk_short_bot-0.1.0\n",
      "creating adk_short_bot-0.1.0/adk_short_bot\n",
      "creating adk_short_bot-0.1.0/adk_short_bot.egg-info\n",
      "copying files to adk_short_bot-0.1.0...\n",
      "copying setup.py -> adk_short_bot-0.1.0\n",
      "copying adk_short_bot/__init__.py -> adk_short_bot-0.1.0/adk_short_bot\n",
      "copying adk_short_bot/agent.py -> adk_short_bot-0.1.0/adk_short_bot\n",
      "copying adk_short_bot.egg-info/PKG-INFO -> adk_short_bot-0.1.0/adk_short_bot.egg-info\n",
      "copying adk_short_bot.egg-info/SOURCES.txt -> adk_short_bot-0.1.0/adk_short_bot.egg-info\n",
      "copying adk_short_bot.egg-info/dependency_links.txt -> adk_short_bot-0.1.0/adk_short_bot.egg-info\n",
      "copying adk_short_bot.egg-info/requires.txt -> adk_short_bot-0.1.0/adk_short_bot.egg-info\n",
      "copying adk_short_bot.egg-info/top_level.txt -> adk_short_bot-0.1.0/adk_short_bot.egg-info\n",
      "copying adk_short_bot.egg-info/SOURCES.txt -> adk_short_bot-0.1.0/adk_short_bot.egg-info\n",
      "Writing adk_short_bot-0.1.0/setup.cfg\n",
      "Creating tar archive\n",
      "removing 'adk_short_bot-0.1.0' (and everything under it)\n",
      "\u001b[1m* Building wheel from sdist\u001b[0m\n",
      "\u001b[1m* Creating isolated environment: venv+pip...\u001b[0m\n",
      "\u001b[1m* Installing packages in isolated environment:\u001b[0m\n"
     ]
    },
    {
     "name": "stderr",
     "output_type": "stream",
     "text": [
      "warning: sdist: standard file not found: should have one of README, README.rst, README.txt, README.md\n",
      "\n"
     ]
    },
    {
     "name": "stdout",
     "output_type": "stream",
     "text": [
      "  - setuptools >= 40.8.0\n",
      "\u001b[1m* Getting build dependencies for wheel...\u001b[0m\n",
      "running egg_info\n",
      "writing adk_short_bot.egg-info/PKG-INFO\n",
      "writing dependency_links to adk_short_bot.egg-info/dependency_links.txt\n",
      "writing requirements to adk_short_bot.egg-info/requires.txt\n",
      "writing top-level names to adk_short_bot.egg-info/top_level.txt\n",
      "reading manifest file 'adk_short_bot.egg-info/SOURCES.txt'\n",
      "writing manifest file 'adk_short_bot.egg-info/SOURCES.txt'\n",
      "\u001b[1m* Building wheel...\u001b[0m\n",
      "running bdist_wheel\n",
      "running build\n",
      "running build_py\n",
      "creating build/lib/adk_short_bot\n",
      "copying adk_short_bot/__init__.py -> build/lib/adk_short_bot\n",
      "copying adk_short_bot/agent.py -> build/lib/adk_short_bot\n",
      "installing to build/bdist.linux-x86_64/wheel\n",
      "running install\n",
      "running install_lib\n",
      "creating build/bdist.linux-x86_64/wheel\n",
      "creating build/bdist.linux-x86_64/wheel/adk_short_bot\n",
      "copying build/lib/adk_short_bot/__init__.py -> build/bdist.linux-x86_64/wheel/./adk_short_bot\n",
      "copying build/lib/adk_short_bot/agent.py -> build/bdist.linux-x86_64/wheel/./adk_short_bot\n",
      "running install_egg_info\n",
      "running egg_info\n",
      "writing adk_short_bot.egg-info/PKG-INFO\n",
      "writing dependency_links to adk_short_bot.egg-info/dependency_links.txt\n",
      "writing requirements to adk_short_bot.egg-info/requires.txt\n",
      "writing top-level names to adk_short_bot.egg-info/top_level.txt\n",
      "reading manifest file 'adk_short_bot.egg-info/SOURCES.txt'\n",
      "writing manifest file 'adk_short_bot.egg-info/SOURCES.txt'\n",
      "Copying adk_short_bot.egg-info to build/bdist.linux-x86_64/wheel/./adk_short_bot-0.1.0-py3.11.egg-info\n",
      "running install_scripts\n",
      "creating build/bdist.linux-x86_64/wheel/adk_short_bot-0.1.0.dist-info/WHEEL\n",
      "creating '/tmp/adk_short_bot_project/dist/.tmp-0f38qsm_/adk_short_bot-0.1.0-py3-none-any.whl' and adding 'build/bdist.linux-x86_64/wheel' to it\n",
      "adding 'adk_short_bot/__init__.py'\n",
      "adding 'adk_short_bot/agent.py'\n",
      "adding 'adk_short_bot-0.1.0.dist-info/METADATA'\n",
      "adding 'adk_short_bot-0.1.0.dist-info/WHEEL'\n",
      "adding 'adk_short_bot-0.1.0.dist-info/top_level.txt'\n",
      "adding 'adk_short_bot-0.1.0.dist-info/RECORD'\n",
      "removing build/bdist.linux-x86_64/wheel\n",
      "\u001b[1m\u001b[92mSuccessfully built \u001b[4madk_short_bot-0.1.0.tar.gz\u001b[0m\u001b[1m\u001b[92m and \u001b[4madk_short_bot-0.1.0-py3-none-any.whl\u001b[0m\u001b[1m\u001b[92m\u001b[0m\n"
     ]
    },
    {
     "data": {
      "text/plain": [
       "CompletedProcess(args=['python', '-m', 'build', '--outdir', '/tmp/adk_short_bot_project/dist'], returncode=0)"
      ]
     },
     "execution_count": 9,
     "metadata": {},
     "output_type": "execute_result"
    }
   ],
   "source": [
    "!pip install build --quiet\n",
    "\n",
    "import subprocess\n",
    "\n",
    "subprocess.run([\"python\", \"-m\", \"build\", \"--outdir\", os.path.join(project_root, \"dist\")], cwd=project_root, check=True)\n"
   ]
  },
  {
   "cell_type": "code",
   "execution_count": 10,
   "id": "7aff5f3b-e161-451e-a6a2-c0e98c9b8b8b",
   "metadata": {},
   "outputs": [
    {
     "name": "stdout",
     "output_type": "stream",
     "text": [
      "UPLOAD FILE TO S3://datalake/Agent/packages/adk_short_bot-0.1.0-py3-none-any.whl SUCCESSFULY!\n",
      "☁️ Uploaded adk_short_bot-0.1.0-py3-none-any.whl to s3://datalake/Agent/packages/adk_short_bot-0.1.0-py3-none-any.whl\n",
      "UPLOAD FILE TO S3://datalake/Agent/packages/adk_short_bot-0.1.0.tar.gz SUCCESSFULY!\n",
      "☁️ Uploaded adk_short_bot-0.1.0.tar.gz to s3://datalake/Agent/packages/adk_short_bot-0.1.0.tar.gz\n"
     ]
    }
   ],
   "source": [
    "# Upload to MinIO (optional)\n",
    "for fpath in dist_dir.glob(\"*\"):\n",
    "    key = f\"packages/{fpath.name}\"    \n",
    "    base_tools.upload_filepath_to_datalake(str(fpath), 'datalake', f'Agent/{key}')\n",
    "    \n",
    "    print(f\"☁️ Uploaded {fpath.name} to s3://datalake/Agent/{key}\")"
   ]
  }
 ],
 "metadata": {
  "kernelspec": {
   "display_name": "Python 3 (ipykernel)",
   "language": "python",
   "name": "python3"
  },
  "language_info": {
   "codemirror_mode": {
    "name": "ipython",
    "version": 3
   },
   "file_extension": ".py",
   "mimetype": "text/x-python",
   "name": "python",
   "nbconvert_exporter": "python",
   "pygments_lexer": "ipython3",
   "version": "3.11.6"
  }
 },
 "nbformat": 4,
 "nbformat_minor": 5
}
